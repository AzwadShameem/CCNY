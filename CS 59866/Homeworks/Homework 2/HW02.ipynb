{
 "cells": [
  {
   "cell_type": "markdown",
   "id": "f1cd952a",
   "metadata": {},
   "source": [
    "# Homework 2 \n"
   ]
  },
  {
   "cell_type": "code",
   "execution_count": 1,
   "id": "d574cbc4",
   "metadata": {},
   "outputs": [],
   "source": [
    "import numpy as np\n",
    "import pandas as pd\n",
    "from matplotlib import pyplot as plt\n",
    "from matplotlib.pyplot import figure\n",
    "from sklearn.preprocessing import StandardScaler\n",
    "from sklearn.model_selection import train_test_split\n",
    "from sklearn.linear_model import LinearRegression, LogisticRegression, SGDRegressor\n",
    "TODO = \"****TODO****\""
   ]
  },
  {
   "cell_type": "markdown",
   "id": "4628dab6",
   "metadata": {},
   "source": [
    "## Problem 1: Implementing Linear Regression\n",
    "\n",
    "Let's first implement multiple learning algorithms for linear regression. Remember our hypothesis function is\n",
    "\n",
    "$$h(x;w) = w_0 + w_1  x_1 + w_2 x_2 + \\cdots$$\n",
    "\n",
    "In this case we are going to be learning just a single dimensional linear regression\n",
    "\n",
    "$$h(x;w) = w_0 + w_1 x_1$$\n",
    "\n",
    "Prompts\n",
    "\n",
    "1.1: LinearRegression\n",
    "- 1.1.1: Learn the linear regression model using a scikit learn package: `sklearn.linear_model import LinearRegression`. This learning algorithm uses linear least squares for a closed-form solution. Create an instance and then run `LinearRegression().fit(...)`. Report the learned weights w=[w_0, w_1]. Hint: use classifier.coef_ and classifier.intercept_. \n",
    "- 1.1.2: Report the train mean-square-error and test mean-squared-error for LinearRegression.\n",
    "\n",
    "1.2: SGDRegressor\n",
    "- 1.2.1: Learn the linear regression model using a scikit learn package `sklearn.linear_model import SGDRegressor`. This learning algorithm uses stochastic gradient descent to solve linear regression. Create an instance and then run `SGDRegressor(alpha=?).fit(...)`. Report the learned weights w=[w_0, w_1]. Find a good version of alpha. Hint: use classifier.coef_ and classifier.intercept_. \n",
    "- 1.2.2: Report the train mean-square-error and test mean-squared-error for SGDRegressor.\n",
    "\n",
    "1.3: Least Squares\n",
    "- 1.3.1: Solve for w_0, w_1 using linear least squares. Hint consider using `np.linalg.lstsq`. Report the learned weights `w=[w_0, w_1]`. Don't forget to add the column of 1s to your X matrix.\n",
    "- 1.3.2: Report the train mean-square-error and test mean-squared-error.\n",
    "\n",
    "1.4: Implement Gradient Descent\n",
    "- 1.4.1: Finish implementation of `gradient_of_mean_squared_error` for linear regression. Print the gradient for the training data for a weight vector of `w=[0, 0]`. (Hint: use `gradient_of_mean_squared_error(...)`)\n",
    "- 1.4.2: Finish implementation of `batch_gradient_descent_epoch` for linear regression. Print out the new weights after running this for a single iteration starting from `w=[0, 0]` with alpha=`1`)\n",
    "- 1.4.3: Run `500 epochs` (steps) of gradient descent starting from `w=[0, 0]` with `alpha=0.01`. Create a plot where the y-axis is the train MeanSquaredError and the x-axis the epoch #.\n",
    "- 1.4.4: Try various values of alpha, num_epochs, and initial values of w (note, see how the error plot changes with alpha. Consider trying various alphas at 10x apart: `[..., 100, 10, 1, 0.01, 0.001,...]`). Discuss what happens with various choices. What was the best alpha you found? How many epochs should you run? What is a good initialization for w?\n",
    "- 1.4.5: Report solution for `w=[w_0, w_1]` for the best run of gradient descent. \n",
    "- 1.4.6: Report the train mean-square-error and test mean-squared-error for these weights.\n",
    "\n",
    "1.5: Are the weights learned the same between all three approaches? Is the mean-squared-error the same? Discuss.\n",
    "\n",
    "1.6: Extra credit: Why did we apply `X = StandardScaler().fit_transform(X)` to our LotArea X feature? What happens if we remove it?"
   ]
  },
  {
   "cell_type": "code",
   "execution_count": 2,
   "id": "45afd93d",
   "metadata": {},
   "outputs": [],
   "source": [
    "# Code to implement linear regression prediction and mean squared error.\n",
    "def linear_regression_predict(x: np.array, w: np.array) -> float:\n",
    "    return w[0] + x.dot(w[1:])\n",
    "\n",
    "def mean_squared_error(y_true, y_predicted) -> float:\n",
    "  n = len(y)\n",
    "  error = 0\n",
    "  for truth, prediction in zip(y_true, y_predicted):\n",
    "    absolute_error = truth - prediction\n",
    "    error += absolute_error * absolute_error\n",
    "  return error/n"
   ]
  },
  {
   "cell_type": "code",
   "execution_count": 3,
   "id": "ca2d3ec8",
   "metadata": {},
   "outputs": [],
   "source": [
    "# Load the heart disease dataset:\n",
    "columns = ['LotArea', 'SalePrice']\n",
    "housing_prices_dataframe = pd.read_csv(\"../../data/housing_prices.csv\")[columns]\n",
    "housing_prices_dataframe['SalePrice'] /= 1000\n",
    "\n",
    "# Select out X and Y\n",
    "X = housing_prices_dataframe[['LotArea']].values\n",
    "y = housing_prices_dataframe['SalePrice'].values\n",
    "\n",
    "# Apply standard scaler to X.\n",
    "X = StandardScaler().fit_transform(X)\n",
    "\n",
    "# =======================================================\n",
    "# Our train and test dataset for this problem.\n",
    "# =======================================================\n",
    "X_train, X_test, y_train, y_test = train_test_split(X, y, test_size=0.30, random_state=42)"
   ]
  },
  {
   "cell_type": "code",
   "execution_count": 4,
   "id": "7a68db26",
   "metadata": {},
   "outputs": [
    {
     "name": "stdout",
     "output_type": "stream",
     "text": [
      "Solution to 1.1.1: linear regression weights are: 17.97050580047713 180.90095813968003\n"
     ]
    }
   ],
   "source": [
    "# Question 1.1.1\n",
    "lr = LinearRegression().fit(X_train, y_train)\n",
    "print(f\"Solution to 1.1.1: linear regression weights are: {lr.coef_[0]} {lr.intercept_}\")"
   ]
  },
  {
   "cell_type": "code",
   "execution_count": 5,
   "id": "f5c4b177",
   "metadata": {},
   "outputs": [
    {
     "name": "stdout",
     "output_type": "stream",
     "text": [
      "Solution to 1.1.2: Train MSE: 3921.823323480261, Test MSE; 1954.8256551478441\n"
     ]
    }
   ],
   "source": [
    "# Question to 1.1.2\n",
    "print(f\"Solution to 1.1.2: Train MSE: {mean_squared_error(y_train, lr.predict(X_train))}, Test MSE; {mean_squared_error(y_test, lr.predict(X_test))}\")"
   ]
  },
  {
   "cell_type": "code",
   "execution_count": 6,
   "id": "40f7baf6",
   "metadata": {},
   "outputs": [
    {
     "name": "stdout",
     "output_type": "stream",
     "text": [
      "Solution to 1.2.1: weights are: (16.576158573815686, 180.06384188895288)\n"
     ]
    }
   ],
   "source": [
    "# Question 1.2.1\n",
    "sgd = SGDRegressor(alpha=.01).fit(X_train, y_train)\n",
    "print(f\"Solution to 1.2.1: weights are: {sgd.coef_[0], sgd.intercept_[0]}\")"
   ]
  },
  {
   "cell_type": "code",
   "execution_count": 7,
   "id": "b9fc71bc",
   "metadata": {},
   "outputs": [
    {
     "name": "stdout",
     "output_type": "stream",
     "text": [
      "Solution to 1.2.2: Train MSE: 3924.1050135885785, Test MSE: 1963.5406298375376\n"
     ]
    }
   ],
   "source": [
    "# Question to 1.2.2\n",
    "print(f\"Solution to 1.2.2: Train MSE: {mean_squared_error(y_train, sgd.predict(X_train))}, Test MSE: {mean_squared_error(y_test, sgd.predict(X_test))}\")"
   ]
  },
  {
   "cell_type": "code",
   "execution_count": 8,
   "id": "b9cd6176",
   "metadata": {},
   "outputs": [
    {
     "name": "stdout",
     "output_type": "stream",
     "text": [
      "Solution to 1.3.1: 17.970505800477145 180.90095813968003\n"
     ]
    }
   ],
   "source": [
    "# Question to 1.3.1\n",
    "# Add a column of 1s to make this easier:\n",
    "X_1s_augmented = np.hstack([np.ones(X_train.shape[0]).reshape(-1, 1), X_train])\n",
    "\n",
    "# Least Squares\n",
    "intercept, slope = np.linalg.lstsq(X_1s_augmented, y_train, rcond=None)[0]\n",
    "\n",
    "print(f\"Solution to 1.3.1: {slope} {intercept}\")"
   ]
  },
  {
   "cell_type": "code",
   "execution_count": 9,
   "id": "e2198d85",
   "metadata": {},
   "outputs": [
    {
     "name": "stdout",
     "output_type": "stream",
     "text": [
      "Solution to 1.3.2: Train MSE: 3921.8233234802624, Test MSE; 1954.8256551478435\n"
     ]
    }
   ],
   "source": [
    "# Question to 1.3.2\n",
    "print(f\"Solution to 1.3.2: Train MSE: {mean_squared_error(y_train, linear_regression_predict(X_train, [intercept, slope]))}, Test MSE; {mean_squared_error(y_test, linear_regression_predict(X_test, [intercept, slope]))}\")"
   ]
  },
  {
   "cell_type": "markdown",
   "id": "3d9be304",
   "metadata": {},
   "source": [
    "### Gradient Descent for Linear Regression\n",
    "\n",
    "Remember, on each update for gradient descent we need to update our weights as follows:\n",
    "$$w_i^{(k+1)}:= w_i^k - \\alpha \\dfrac{∂}{∂w^{k}} J(w^{k})$$\n",
    "\n",
    "The algorithm then iteratively updates the weights as follows:\n",
    "$$\n",
    "temp_0 := w_0 - \\alpha \\dfrac{∂}{∂{w_0}} J(w)\\\\\n",
    "temp_1 := w_1 - \\alpha \\dfrac{∂}{∂{w_1}} J(w) \\\\\n",
    "w_0 := temp_0 \\\\\n",
    "w_1 := temp_1\n",
    "$$\n",
    "\n",
    "To implement `gradient_of_mean_squared_error` you will need to implement this gradient for each sample and then `batch_gradient_descent_epoch` will sum them up. Remember this is the gradient calculation:\n",
    "\n",
    "$$\n",
    "\\dfrac{∂}{∂w_0}J(w) = \\dfrac{∂}{∂_{w_0}} \\dfrac{1}{N}\\sum_{i}^N (h(x^{(i)}; w) - y^{(i)})^2\n",
    "$$\n",
    "\n",
    "$$\n",
    "\\dfrac{∂}{∂{w_0}}J(w) =\\dfrac{2}{N}\\sum_{i}^N (h(x^{(i)}; w) - y^{(i)})\n",
    "$$\n",
    "\n",
    "$$\n",
    "\\frac{∂}{∂w_1}J(w) = \\frac{∂}{∂w_1} \\frac{1}{N}\\sum_{i}^N (h(x^{(i)}; w) - y^{(i)})^2\n",
    "$$\n",
    "$$\n",
    "\\frac{∂}{∂w_1}J(w) = \\frac{2}{N}\\sum_{i}^N (h(x^{(i)}; w) - y^{(i)}) x^{(i)}\n",
    "$$\n"
   ]
  },
  {
   "cell_type": "code",
   "execution_count": 10,
   "id": "e7ba0753",
   "metadata": {},
   "outputs": [
    {
     "name": "stdout",
     "output_type": "stream",
     "text": [
      "Solution to 1.4.1: [-362.6253855185906, array([-54.6031857])]\n"
     ]
    }
   ],
   "source": [
    "# Solution to 1.4.1\n",
    "def gradient_of_mean_squared_error(X, y, w):\n",
    "    \"\"\"Calculate the gradient of MSE loss with respect to weights w\n",
    "    \n",
    "    Args:\n",
    "      X: N x d matrix of X values (in this case d=1, we only have 1 feature)\n",
    "      y: N x 1 vector of targets\n",
    "      w: weight vector of length d+1 (in this case d=1)\n",
    "      \n",
    "    Return:\n",
    "      d x 1 gradient vector - consisting of gradient of MSE loss. gradient[j] is\n",
    "          the partial derivative of the MSE with respect to weight j averaged\n",
    "          over all the samples\n",
    "    \"\"\"\n",
    "    n = X.shape[0]\n",
    "    k = X.shape[1]    \n",
    "    predicted_y = linear_regression_predict(X, w)\n",
    "    # Implement this:\n",
    "    gradient = [0, 0]\n",
    "    for i in range(n):\n",
    "        gradient[0] += predicted_y[i] - y[i]\n",
    "        gradient[1] += (predicted_y[i] - y[i]) * X[i]\n",
    "    gradient[0] = (gradient[0] * 2 )/ n\n",
    "    gradient[1] = (gradient[1] * 2 )/ n\n",
    "    assert(len(gradient) == 2)\n",
    "    return gradient\n",
    "mean_gradient = gradient_of_mean_squared_error(X_train, y_train, [0, 0])\n",
    "print(f\"Solution to 1.4.1: {mean_gradient}\")"
   ]
  },
  {
   "cell_type": "code",
   "execution_count": 11,
   "id": "e3b8b5ad",
   "metadata": {},
   "outputs": [
    {
     "name": "stdout",
     "output_type": "stream",
     "text": [
      "Solution to 1.4.2: Single weight update: [362.6253855185906, array([54.6031857])]\n"
     ]
    }
   ],
   "source": [
    "# Questioin to 1.4.2\n",
    "def batch_gradient_descent_epoch(X, y, w, alpha):\n",
    "    \"\"\"Returns new weights after one step of batch gradient descent\n",
    "    across the entire dataset.\n",
    "    \n",
    "    Args:\n",
    "      X: N x d matrix (in this case d=1, we only have 1 feature)\n",
    "      y: N x 1 vector\n",
    "      w: weight vector of length d+1 (in this case d=1)\n",
    "      alpha: Floating point learning rate.\n",
    "      \n",
    "    Return:\n",
    "      updated weights as a length-2 vector after 1 step of gradient descent.\n",
    "    \"\"\"\n",
    "    n = X.shape[0]\n",
    "    d = X.shape[1]\n",
    "    \n",
    "    # Evaluate the error gradient across the entire dataset. NOTE: there are various\n",
    "    # versions of gradient descent that work differently here. In this case we are running\n",
    "    # what is called 'Batch' gradient descen that updates based off the entire training\n",
    "    # dataset on each epoch. Other techniques are mini-batch which break the dataset into\n",
    "    # small chunks and stochastic gradient descent which uses only one sample at a time.\n",
    "    error_gradient = gradient_of_mean_squared_error(X, y, w)\n",
    "    assert(len(error_gradient) == d+1)\n",
    "    return [(w[0] - (alpha * error_gradient[0])), (w[1] - (alpha * error_gradient[1]))]\n",
    "update = batch_gradient_descent_epoch(X_train, y_train, [0, 0], 1)\n",
    "print(f\"Solution to 1.4.2: Single weight update: {update}\")"
   ]
  },
  {
   "cell_type": "code",
   "execution_count": 12,
   "id": "fae4e8de",
   "metadata": {},
   "outputs": [
    {
     "name": "stdout",
     "output_type": "stream",
     "text": [
      "Solution to 1.4.3: Plot:\n"
     ]
    },
    {
     "data": {
      "image/png": "[encoded data removed]",
      "text/plain": [
       "<Figure size 640x480 with 1 Axes>"
      ]
     },
     "metadata": {
      "needs_background": "light"
     },
     "output_type": "display_data"
    }
   ],
   "source": [
    "# Question to 1.4.3\n",
    "fig = figure(figsize=(8, 6), dpi=80)\n",
    "alpha = 0.01\n",
    "weights_gradient_descent = [0, 0]\n",
    "num_epochs = 500\n",
    "errors = []\n",
    "for epoch in range(0, num_epochs):  \n",
    "    # TODO: implement gradient descent loop\n",
    "    # 1. update the weights\n",
    "    weights_gradient_descent = batch_gradient_descent_epoch(X_train, y_train, weights_gradient_descent, alpha)\n",
    "    # 2. calculate and record the error using the current weights\n",
    "    errors.append(mean_squared_error(y_train, linear_regression_predict(X_train, weights_gradient_descent)))\n",
    "    pass\n",
    "print(\"Solution to 1.4.3: Plot:\")\n",
    "plt.plot(errors)\n",
    "plt.show()"
   ]
  },
  {
   "cell_type": "code",
   "execution_count": 13,
   "id": "4e3b6a1e",
   "metadata": {},
   "outputs": [
    {
     "name": "stdout",
     "output_type": "stream",
     "text": [
      "Solution to 1.4.3: Plot:\n"
     ]
    },
    {
     "data": {
      "image/png": "[encoded data removed]",
      "text/plain": [
       "<Figure size 640x480 with 1 Axes>"
      ]
     },
     "metadata": {
      "needs_background": "light"
     },
     "output_type": "display_data"
    }
   ],
   "source": [
    "# Question 1.4.4\n",
    "fig = figure(figsize=(8, 6), dpi=80)\n",
    "alpha = 1\n",
    "weights_gradient_descent = [0, 0]\n",
    "num_epochs = 500\n",
    "errors = []\n",
    "for epoch in range(0, num_epochs):\n",
    "    # TODO: implement gradient descent loop\n",
    "    # 1. update the weights\n",
    "    weights_gradient_descent = batch_gradient_descent_epoch(X_train, y_train, weights_gradient_descent, alpha)\n",
    "    # 2. calculate and record the error using the current weights\n",
    "    errors.append(mean_squared_error(y_train, linear_regression_predict(X_train, weights_gradient_descent)))\n",
    "    pass\n",
    "print(\"Solution to 1.4.3: Plot:\")\n",
    "plt.plot(errors)\n",
    "plt.show()"
   ]
  },
  {
   "cell_type": "code",
   "execution_count": 14,
   "id": "57968be0",
   "metadata": {
    "collapsed": false,
    "pycharm": {
     "name": "#%%\n"
    }
   },
   "outputs": [
    {
     "name": "stdout",
     "output_type": "stream",
     "text": [
      "Solution to 1.4.3: Plot:\n"
     ]
    },
    {
     "data": {
      "image/png": "[encoded data removed]",
      "text/plain": [
       "<Figure size 640x480 with 1 Axes>"
      ]
     },
     "metadata": {
      "needs_background": "light"
     },
     "output_type": "display_data"
    }
   ],
   "source": [
    "# Question 1.4.4\n",
    "fig = figure(figsize=(8, 6), dpi=80)\n",
    "alpha = .1\n",
    "weights_gradient_descent = [0, 0]\n",
    "num_epochs = 500\n",
    "errors = []\n",
    "for epoch in range(0, num_epochs):\n",
    "    # TODO: implement gradient descent loop\n",
    "    # 1. update the weights\n",
    "    weights_gradient_descent = batch_gradient_descent_epoch(X_train, y_train, weights_gradient_descent, alpha)\n",
    "    # 2. calculate and record the error using the current weights\n",
    "    errors.append(mean_squared_error(y_train, linear_regression_predict(X_train, weights_gradient_descent)))\n",
    "    pass\n",
    "print(\"Solution to 1.4.3: Plot:\")\n",
    "plt.plot(errors)\n",
    "plt.show()"
   ]
  },
  {
   "cell_type": "code",
   "execution_count": 15,
   "id": "2649e7cb",
   "metadata": {
    "collapsed": false,
    "pycharm": {
     "name": "#%%\n"
    }
   },
   "outputs": [
    {
     "name": "stdout",
     "output_type": "stream",
     "text": [
      "Solution to 1.4.3: Plot:\n"
     ]
    },
    {
     "data": {
      "image/png": "[encoded data removed]",
      "text/plain": [
       "<Figure size 640x480 with 1 Axes>"
      ]
     },
     "metadata": {
      "needs_background": "light"
     },
     "output_type": "display_data"
    }
   ],
   "source": [
    "# Question 1.4.4\n",
    "fig = figure(figsize=(8, 6), dpi=80)\n",
    "alpha = .001\n",
    "weights_gradient_descent = [0, 0]\n",
    "num_epochs = 500\n",
    "errors = []\n",
    "for epoch in range(0, num_epochs):\n",
    "    # TODO: implement gradient descent loop\n",
    "    # 1. update the weights\n",
    "    weights_gradient_descent = batch_gradient_descent_epoch(X_train, y_train, weights_gradient_descent, alpha)\n",
    "    # 2. calculate and record the error using the current weights\n",
    "    errors.append(mean_squared_error(y_train, linear_regression_predict(X_train, weights_gradient_descent)))\n",
    "    pass\n",
    "print(\"Solution to 1.4.3: Plot:\")\n",
    "plt.plot(errors)\n",
    "plt.show()"
   ]
  },
  {
   "cell_type": "code",
   "execution_count": 16,
   "id": "9bdaf5f6",
   "metadata": {},
   "outputs": [
    {
     "name": "stdout",
     "output_type": "stream",
     "text": [
      "Solution to 1.4.5: [array([180.90095814]), array([17.9705058])]\n"
     ]
    }
   ],
   "source": [
    "# Question to 1.4.5\n",
    "alpha = .1\n",
    "weights_gradient_descent = [0, 0]\n",
    "num_epochs = 500\n",
    "errors = []\n",
    "for epoch in range(0, num_epochs):\n",
    "    weights_gradient_descent = batch_gradient_descent_epoch(X_train, y_train, weights_gradient_descent, alpha)\n",
    "\n",
    "print(f\"Solution to 1.4.5: {weights_gradient_descent}\")"
   ]
  },
  {
   "cell_type": "code",
   "execution_count": 17,
   "id": "74111908",
   "metadata": {},
   "outputs": [
    {
     "name": "stdout",
     "output_type": "stream",
     "text": [
      "Solution to 1.4.6: Train MSE: [3921.82332348], [1931.20383365]\n"
     ]
    }
   ],
   "source": [
    "# Question to 1.4.6\n",
    "print(f\"Solution to 1.4.6: Train MSE: {mean_squared_error(y_train, linear_regression_predict(X_train, weights_gradient_descent))}, {mean_squared_error(y_train, linear_regression_predict(X_test, weights_gradient_descent))}\")"
   ]
  },
  {
   "cell_type": "markdown",
   "id": "f12ffcfb",
   "metadata": {
    "pycharm": {
     "name": "#%% md\n"
    }
   },
   "source": [
    "# Question 1.5\n",
    "The weights learned are not same in the three approaches but they are very similar they have differences in the decimals. The mean squared error is also not the same but again we see that the results are similar.\n",
    "This happens because the different approaches attempt to find the line of best fit in different ways that they end up with different weights and then due to the differences of weights\n",
    "they end up getting different mean squared error."
   ]
  },
  {
   "cell_type": "markdown",
   "id": "1b9f8897",
   "metadata": {
    "pycharm": {
     "name": "#%% md\n"
    }
   },
   "source": [
    "# Extra Credit Question 1.6\n",
    "StandardScaler was applied in order to normalize feature values before applying a machine learning model. StandardScaler normalizes the features columns\n",
    "individually so that each feature column will have a mean value of 0 and a standard variation of 0. We applied StandardScaler.fit_transform(X) in order\n",
    "to normalize our feature data so that when we run the machine learning models on the data we will get back easier to understand numbers. If we remove\n",
    "the StandardScaler.fit_transform(X) the information we get back from the machine learning model will be more difficult to understand. Look at the code\n",
    "below, the first print statement is without the StandardScaler and one of the weights are 0.0018010405863711303, while the other print statement has\n",
    "StandardScaler applied, the same weight is 17.970505800477127. Clearly, 17.970505800477127 is easier to understand than 0.0018010405863711303 and that is exactly\n",
    "why StandardScaler is utilized, it 'normalizes' the data so that us as humans can get back more understandable information after using the machine learning model."
   ]
  },
  {
   "cell_type": "code",
   "execution_count": 18,
   "id": "a6d6a374",
   "metadata": {
    "collapsed": false,
    "pycharm": {
     "name": "#%%\n"
    }
   },
   "outputs": [
    {
     "name": "stdout",
     "output_type": "stream",
     "text": [
      "linear regression weights are: 0.0018010405863711303 161.95972392376498\n",
      "linear regression weights are: 17.970505800477127 180.90095813968003\n"
     ]
    }
   ],
   "source": [
    "# Extra Credit Question 1.6\n",
    "# Select out X and Y\n",
    "example_x = housing_prices_dataframe[['LotArea']].values\n",
    "example_y = housing_prices_dataframe['SalePrice'].values\n",
    "\n",
    "# Apply standard scaler to X.\n",
    "example_x2 = StandardScaler().fit_transform(X)\n",
    "\n",
    "# =======================================================\n",
    "# Our train and test dataset for this problem.\n",
    "# =======================================================\n",
    "example_X_train, example_X_test, example_y_train, example_y_test = train_test_split(example_x, example_y, test_size=0.30, random_state=42)\n",
    "lr = LinearRegression().fit(example_X_train, y_train)\n",
    "print(f\"linear regression weights are: {lr.coef_[0]} {lr.intercept_}\")\n",
    "\n",
    "example_X_train, example_X_test, example_y_train, example_y_test = train_test_split(example_x2, example_y, test_size=0.30, random_state=42)\n",
    "lr = LinearRegression().fit(example_X_train, y_train)\n",
    "print(f\"linear regression weights are: {lr.coef_[0]} {lr.intercept_}\")"
   ]
  },
  {
   "cell_type": "markdown",
   "id": "de220280",
   "metadata": {},
   "source": [
    "## Problem 2: Implementing Logistic Regression\n",
    "\n",
    "Now we will use logistic regression for classificaton: to predict heart disease using the same dataset as in Homework 1.\n",
    "\n",
    "Gradient descent for logistic regression is very similar to linear regression but not quite the same. \n",
    "\n",
    "Note that in this problem, we are also using 3 different X variables instead of just 1 as in problem 1. Including a column of 1s for the bias term this means `d=4` so our X matrix will be of size `N x 4`, our weight vector will be of length `4`, and error gradient matrix will end up being `N x 4`.\n",
    "\n",
    "\n",
    "2.1: Logistic Regression using Sklearn\n",
    "- 2.1.1: Learn the logistic regression model using a scikit learn package: `sklearn.linear_model import LogisticRegression`. Create an instance and then run `LogisticRegression().fit(...)`. Report the learned weights w=[w_0, w_1, w_2, w_3]. Hint: use classifier.coef_ and classifier.intercept_ to get these out of the trained classifier. \n",
    "- 2.1.2: Report the train log-loss and test log-loss.\n",
    "- 2.1.3: Report the train accuracy and test accuracy using a threshold of 0.5 on the probability prediction to get a classifier.\n",
    "\n",
    "2.2: Gradient Descent for Logistic Regression\n",
    "- 2.2.1: Finish implementation of `gradient_of_log_loss` for logistic regression. Print the gradient for the training data for a weight vector of `w=[0, 0, 0, 0]`. \n",
    "- 2.2.2: Finish implementation of `batch_gradient_descent_logreg_epoch` for logistic regression. Print out the new weights after running this for a single iteration starting from `w=[0, 0, 0, 0]` )\n",
    "- 2.2.3: Run `500 epochs` (steps) of gradient descent starting from `w=[0, 0, 0, 0]` with `alpha=0.1`. Create a plot where the y-axis is the train log-loss and the x-axis the epoch #.\n",
    "- 2.2.4: Try various values of alpha, num_epochs, and initial values of w (note, see how the error plot changes with alpha. Consider trying various alphas at 10x apart: `[..., 10, 1, 0.01, 0.001, 0.0001, ...]`). Discuss what happens with various choices. What was the best alpha you found? How many epochs should you run? What is a good initialization for w?\n",
    "- 2.2.5: Report learned weights `w` for the best run of gradient descent. \n",
    "- 2.2.6: Report the train log-loss and test log-loss for these weights.\n",
    "- 2.2.7: Report the train accuracy and test accuracy using a threshold of 0.5 on the probability prediction to get a classifier.\n",
    "\n",
    "2.3: Derive $\\frac{d \\sigma}{dw}$ where $\\sigma(x;w) = \\frac{1}{1 + e^{-wx}}$\n",
    "\n",
    "2.4: Extra credit: Why did we apply `StandardScaler()` to our varaibles X feature? What happens if we remove it?\n",
    "\n",
    "2.5: Extra credit: We implemented `batch` gradient descent in which each step of gradient descent goes over every single example in the training set. If we wanted to instead implement `mini-batch` in which each step of gradient descent considerd only 50 examples of training data and updated the weights based on that gradient. What would change in our implementation? Discuss.\n"
   ]
  },
  {
   "cell_type": "code",
   "execution_count": 19,
   "id": "71b39381",
   "metadata": {},
   "outputs": [],
   "source": [
    "from sklearn.metrics import log_loss\n",
    "from sklearn.metrics import accuracy_score"
   ]
  },
  {
   "cell_type": "code",
   "execution_count": 20,
   "id": "daec2402",
   "metadata": {},
   "outputs": [],
   "source": [
    "# Load the heart disease dataset:\n",
    "columns = ['Age', 'Oldpeak', 'MaxHR', 'HeartDisease']\n",
    "heart_disease_dataframe = pd.read_csv(\"../../data/heart.csv\")[columns]\n",
    "\n",
    "# Select out X and Y\n",
    "X_hd = heart_disease_dataframe[['Age', 'Oldpeak', 'MaxHR']].values\n",
    "y_hd = heart_disease_dataframe['HeartDisease'].values\n",
    "\n",
    "# Apply standard scaler to X.\n",
    "X_hd = StandardScaler().fit_transform(X_hd)\n",
    "\n",
    "# =======================================================\n",
    "# Our train and test dataset for this problem.\n",
    "# =======================================================\n",
    "X_train_hd, X_test_hd, y_train_hd, y_test_hd = train_test_split(X_hd, y_hd, test_size=0.30, random_state=42)"
   ]
  },
  {
   "cell_type": "code",
   "execution_count": 21,
   "id": "4be06503",
   "metadata": {},
   "outputs": [
    {
     "name": "stdout",
     "output_type": "stream",
     "text": [
      "Solution to 2.1.1: weights learned with sklearn LogisticRegression: (array([[ 0.20232843,  0.95339757, -0.79996645]]), array([0.23082056]))\n"
     ]
    }
   ],
   "source": [
    "# Question to 2.1.1\n",
    "lgr = LogisticRegression().fit(X_train_hd, y_train_hd)\n",
    "print(f\"Solution to 2.1.1: weights learned with sklearn LogisticRegression: {lgr.coef_, lgr.intercept_}\")"
   ]
  },
  {
   "cell_type": "code",
   "execution_count": 22,
   "id": "f401a8c0",
   "metadata": {},
   "outputs": [
    {
     "name": "stdout",
     "output_type": "stream",
     "text": [
      "Solution to 2.1.2: Log loss for sklearn LogisticRegression: Train: 8.71549056724691, Test: 9.385641359151407\n"
     ]
    }
   ],
   "source": [
    "# Solution to 2.1.2\n",
    "print(f\"Solution to 2.1.2: Log loss for sklearn LogisticRegression: Train: {log_loss(y_train_hd, lgr.predict(X_train_hd))}, Test: {log_loss(y_test_hd, lgr.predict(X_test_hd))}\")"
   ]
  },
  {
   "cell_type": "code",
   "execution_count": 23,
   "id": "3509ec04",
   "metadata": {},
   "outputs": [
    {
     "name": "stdout",
     "output_type": "stream",
     "text": [
      "Solution to 2.1.3: Accuracy Train: 0.7476635514018691, Accuracy Test: 0.7282608695652174\n"
     ]
    }
   ],
   "source": [
    "# Solution to 2.1.3\n",
    "threshold_y_train, threshold_y_test = [], []\n",
    "for i in y_train_hd:\n",
    "    if i > 0.5:\n",
    "        threshold_y_train.append(i)\n",
    "    else:\n",
    "        threshold_y_train.append(0)\n",
    "\n",
    "for i in y_test_hd:\n",
    "    if i > 0.5:\n",
    "        threshold_y_test.append(i)\n",
    "    else:\n",
    "        threshold_y_test.append(0)\n",
    "\n",
    "print(f\"Solution to 2.1.3: Accuracy Train: {accuracy_score(threshold_y_train, lgr.predict(X_train_hd))}, Accuracy Test: {accuracy_score(threshold_y_test, lgr.predict(X_test_hd))}\")"
   ]
  },
  {
   "cell_type": "markdown",
   "id": "bf3ca92c",
   "metadata": {},
   "source": [
    "### Gradient Descent for Logistic Regression\n",
    "\n",
    "Our hypothesis function for logistic regression is\n",
    "$$h(x; w) = \\frac{1}{1 + e^{-(w_0 + w_1 x_1 + w_2 x_2 + \\dots)}}$$\n",
    "\n",
    "#### Trick: Adding bias term to simplify notation\n",
    "To simplify our notation, we will add a column to x called $x_0$ which always consists of 1s, this makes all our calculations simpler and we can write this in matrix form\n",
    "\n",
    "$$\\frac{1}{1 + e^{-(w_0 x_0 + w_1 x_1 + w_2 x_2 + \\dots)}} :=  \\frac{1}{1 + e^{-w^T  x}}$$\n",
    "\n",
    "#### Vector and Matrix notation\n",
    "\n",
    "Notice we now represent the weights * x as a dot product $w^Tx = w_0 x_0 + w_1x_1 + \\dots$\n",
    "\n",
    "It's always helpful to keep track of dimensions to understand vector/matrix operations:\n",
    "- $w$: is of size $(d x 1)$\n",
    "- $x$ is of size $(d x 1)$\n",
    "- $w^T x$ is a scalar $(1 x 1)$\n",
    "\n",
    "This allows us a nice trick too, we can calculate logistic regression hypothesis function for multiple samples simultaneously using matrix operations. \n",
    "\n",
    "If we introduce a matrix of samples: $X$ is of size $(N x d)$ where each row is a sample and the columns are dimensions, we can then evaluate the entire expression:\n",
    "\n",
    "$X\\cdot w$ is a vector $(N x 1)$\n",
    "\n",
    "$$X\\cdot w = \\begin{pmatrix} \n",
    "w_0 x^{(0)}_0 + w_1x^{(0)}_1 + \\cdots \\\\\n",
    "w_0 x^{(1)}_0 + w_1x^{(1)}_1 + \\cdots \\\\\n",
    "\\cdots \\\\\n",
    "w_0 x^{(N)}_0 + w_1x^{(N)}_1 + \\cdots\n",
    "\\end{pmatrix}$$\n",
    "\n",
    "We can re-write our whole hypothesis function, then, in matrix form:\n",
    "\n",
    "$$h(X;w) :=  \\frac{1}{1 + e^{-X\\cdot w}}$$\n",
    "\n",
    "And in python this is:\n",
    "```def logistic_regression_predict(X, w):\n",
    "    return 1 / (1 + np.exp(-X.dot(w)))```\n",
    "\n",
    "\n",
    "### Deriving Gradient Descent for Logistic Regression\n",
    "\n",
    "Remember, on each update for gradient descent we need to update our weights as follows:\n",
    "$$w_i^{(k+1)}:= w_i^k - \\alpha \\dfrac{∂}{∂w^{k}} J(w^{k})$$\n",
    "\n",
    "The algorithm then iteratively updates all the weights as follows:\n",
    "$$\n",
    "\\forall j: temp_j := w_j - \\alpha \\dfrac{∂}{∂{w_j}} J(w)\\\\\n",
    "\\forall j: w_j := temp_j \\\\\n",
    "$$\n",
    "\n",
    "To implement `gradient_of_log_loss` you will need to implement this gradient for each sample and then `batch_gradient_descent_logreg_epoch` will sum them up. \n",
    "\n",
    "Remember, log loss (also known as binary cross entropy) is defined as follows:\n",
    "\n",
    "$$\n",
    "J(w) = -\\frac{1}{n}\\sum_{i}^n y^{(i)} \\cdot log(h(x^{(i)}; w)) + (1 - y^{(i)}) log(1 - h(x^{(i)}; w))\n",
    "$$\n",
    "\n",
    "The partial gradient turns out to be quite simple using the chain rule if we break up the loss function equation into parts. Note that this uses vector calculus which you may not be familiar with, but it is just using the matrix/vector notation described above.\n",
    "\n",
    "Let:\n",
    "$$g = X\\cdot w$$\n",
    "$$z = \\sigma(g) = \\frac{1}{1 + e^{-g}}$$\n",
    "\n",
    "So that:\n",
    "$$J(w) = -(y \\cdot log(z) + (1 - y) \\cdot log(1 - z))$$\n",
    "\n",
    "Apply the chain rule and you get:\n",
    "$$\n",
    "\\dfrac{∂ J(w)}{∂{w}} = \\dfrac{∂ J(w)}{∂{z}} \\dfrac{∂ z}{∂{g}} \\dfrac{∂ g}{∂{w}} \n",
    "$$\n",
    "\n",
    "The first term is:\n",
    "$$\\dfrac{∂ J(w)}{∂{z}} = -(\\frac{y}{z} - \\frac{1 - y}{1 - z}) = \\frac{z-y}{z(1-z)}$$\n",
    "\n",
    "The derivative of the sigmoid $z$ has a nice simple form:\n",
    "$$\\dfrac{∂ z}{∂{g}} = z\\cdot(1 - z)$$\n",
    "\n",
    "Lastly the derivative of $g$ is just a linear function like LinearRegression, which, as we remember just ends up being the vector of x values.\n",
    "$$\\dfrac{∂ g}{∂{w}} = X$$\n",
    "\n",
    "Putting this all back together, it will simplify to:\n",
    "$$\\dfrac{∂ J(w)}{∂{w}} = X ^T (z - y)$$\n",
    "\n",
    "To help understand: just to check the above, let's look matrix/vector sizes and what they represent:\n",
    "- $X$ is a matrix of size $(N x d)$ where each row is a sample and each column is a dimension of x\n",
    "- $z$ is a vector of size $(N x 1)$ consisting of the model predictions for each samples \n",
    "- $y$ is a vector of size $(N x 1)$ consisting of the true labels for each sample\n",
    "- $(z - y)$ is a vector of $(N x 1)$ consisting of the difference between predictions and true values\n",
    "- $X ^T (z - y)$ is a matrix of size $(d x N)$\n",
    "- $\\dfrac{∂ J(w)}{∂{w}}$ is a matrix of size $(d x 1)$ where each element is:\n",
    "\n",
    "$$\n",
    "\\dfrac{∂J(w)}{∂{w_j}}  = \\frac{1}{N}\\sum_{i}^N x_j^{(i)} (h(x^{(i)}; w) - y^{(i)})\n",
    "$$\n",
    "\n",
    "(Note the division by N to get the average gradient across all samples)\n",
    "\n",
    "\n",
    "Wow! it looks almost identical to linear regression!"
   ]
  },
  {
   "cell_type": "code",
   "execution_count": 24,
   "id": "8baca73c",
   "metadata": {},
   "outputs": [],
   "source": [
    "# Add a column of 1s to make things easier. This means we don't need that\n",
    "# hanging w_0 and can evaluate everything at once.\n",
    "X_train_hd_with_1s = np.hstack([np.ones(X_train_hd.shape[0]).reshape(-1,1), X_train_hd])\n",
    "X_test_hd_with_1s = np.hstack([np.ones(X_test_hd.shape[0]).reshape(-1,1), X_test_hd])"
   ]
  },
  {
   "cell_type": "code",
   "execution_count": 25,
   "id": "405000da",
   "metadata": {},
   "outputs": [
    {
     "name": "stdout",
     "output_type": "stream",
     "text": [
      "Solution to 2.2.1: [-0.03582554517133956, -0.152789514469371, -0.21945984268990038, 0.19108075553195383]\n"
     ]
    }
   ],
   "source": [
    "# Question to 2.2.1\n",
    "def logistic_regression_predict(X, w):\n",
    "    \"\"\" Calculate logistic regression for N samples\n",
    "     Args:\n",
    "      X: N x d matrix of X values\n",
    "      w: weight vector of length d\n",
    "      \n",
    "    Return:\n",
    "      N x 1 vector of predictions\n",
    "    \"\"\"\n",
    "    return 1 / (1 + np.exp(-X.dot(w)))\n",
    "\n",
    "def gradient_of_log_loss(X, y, w):\n",
    "    \"\"\"Calculate the gradient of log loss (aka binary cross entropy) with respect to weights w\n",
    "    \n",
    "    Args:\n",
    "      X: N x d matrix of X values\n",
    "      y: N x 1 vector of targets\n",
    "      w: weight vector of length d\n",
    "      \n",
    "    Return:\n",
    "      d x 1 gradient vector - consisting of gradient of log loss. gradient[j] is\n",
    "          the partial derivative of the loss with respect to weight j averaged over\n",
    "          all N incoming samples\n",
    "    \"\"\"\n",
    "    N = X.shape[0]\n",
    "    d = X.shape[1]\n",
    "    predicted_y = logistic_regression_predict(X, w)\n",
    "    error = predicted_y - y\n",
    "    # TODO implement the gradient vector\n",
    "    gradient = [0, 0, 0, 0]\n",
    "    for i in range(N):\n",
    "        gradient[0] += X[i][0] * (predicted_y[i] - y[i])\n",
    "        gradient[1] += X[i][1] * (predicted_y[i] - y[i])\n",
    "        gradient[2] += X[i][2] * (predicted_y[i] - y[i])\n",
    "        gradient[3] += X[i][3] * (predicted_y[i] - y[i])\n",
    "    for i in range(len(gradient)):\n",
    "        gradient[i] = gradient[i]/N\n",
    "    # Ensure it is the right size!\n",
    "    assert len(gradient) == d\n",
    "    return gradient\n",
    "\n",
    "mean_gradient = gradient_of_log_loss(X_train_hd_with_1s, y_train_hd, [0, 0, 0, 0])\n",
    "print(f\"Solution to 2.2.1: {mean_gradient}\")"
   ]
  },
  {
   "cell_type": "code",
   "execution_count": 26,
   "id": "8e654907",
   "metadata": {},
   "outputs": [
    {
     "name": "stdout",
     "output_type": "stream",
     "text": [
      "Solution to 2.2.2: Single weight update: [0.1791277258566978, 0.763947572346855, 1.0972992134495019, -0.9554037776597691]\n"
     ]
    }
   ],
   "source": [
    "# Question to 2.2.2\n",
    "def batch_gradient_descent_logreg_epoch(X, y, w, alpha):\n",
    "    \"\"\"Returns new weights after one step of batch gradient descent\n",
    "    across the entire dataset.\n",
    "    \n",
    "    Args:\n",
    "      X: N x d matrix \n",
    "      y: N x 1 vector\n",
    "      w: weight vector of length d\n",
    "      alpha: Floating point learning rate.\n",
    "      \n",
    "    Return:\n",
    "      updated weights as a length-d vector after 1 step of gradient descent.\n",
    "    \"\"\"\n",
    "    n = X.shape[0]\n",
    "    d = X.shape[1]\n",
    "    \n",
    "    # Evaluate the error gradient across the entire dataset. NOTE: there are various\n",
    "    # versions of gradient descent that work differently here. In this case we are running\n",
    "    # what is called 'Batch' gradient descent that updates based off the entire training\n",
    "    # dataset on each epoch. Other techniques are mini-batch which break the dataset into\n",
    "    # small chunks and stochastic gradient descent which uses only one sample at a time.\n",
    "    error_gradient = gradient_of_log_loss(X, y, w)\n",
    "    \n",
    "    # Update our weights based on the gradient update.\n",
    "    new_weights = [0, 0, 0, 0]\n",
    "    new_weights[0]  = w[0] - (alpha * error_gradient[0])\n",
    "    new_weights[1]  = w[1] - (alpha * error_gradient[1])\n",
    "    new_weights[2]  = w[2] - (alpha * error_gradient[2])\n",
    "    new_weights[3]  = w[3] - (alpha * error_gradient[3])\n",
    "    # Make sure it is the right size:\n",
    "    assert len(new_weights) == d\n",
    "    return new_weights\n",
    "\n",
    "update = batch_gradient_descent_logreg_epoch(X_train_hd_with_1s, y_train_hd, [0, 0, 0, 0], 5)\n",
    "print(f\"Solution to 2.2.2: Single weight update: {update}\")"
   ]
  },
  {
   "cell_type": "markdown",
   "id": "d6c3faf3",
   "metadata": {},
   "source": [
    "Question to 2.2.4\n",
    "\n",
    "TODO: answer to question 2.2.4"
   ]
  },
  {
   "cell_type": "code",
   "execution_count": 27,
   "id": "fa1a04ec",
   "metadata": {
    "collapsed": false,
    "pycharm": {
     "name": "#%%\n"
    }
   },
   "outputs": [
    {
     "name": "stdout",
     "output_type": "stream",
     "text": [
      "Solution to 2.2.3: Plot: TODO\n"
     ]
    },
    {
     "data": {
      "image/png": "[encoded data removed]",
      "text/plain": [
       "<Figure size 640x480 with 1 Axes>"
      ]
     },
     "metadata": {
      "needs_background": "light"
     },
     "output_type": "display_data"
    }
   ],
   "source": [
    "# Question to 2.2.3\n",
    "from matplotlib.pyplot import figure\n",
    "fig = figure(figsize=(8, 6), dpi=80)\n",
    "# Learning Rate\n",
    "alpha = 0.1\n",
    "weights_gradient_descent = [0, 0, 0, 0]\n",
    "num_epochs = 500\n",
    "errors = []\n",
    "for epoch in range(0, num_epochs):\n",
    "    # TODO: implement gradient descent loop\n",
    "    # 1. update the weights\n",
    "    weights_gradient_descent = batch_gradient_descent_logreg_epoch(X_train_hd_with_1s, y_train_hd, weights_gradient_descent, alpha)\n",
    "    # 2. calculate and record the error using the current weights\n",
    "    errors.append(mean_squared_error(y_train_hd, logistic_regression_predict(X_train_hd_with_1s, weights_gradient_descent)))\n",
    "    pass\n",
    "print(\"Solution to 2.2.3: Plot: TODO\")\n",
    "plt.plot(errors)\n",
    "plt.show()"
   ]
  },
  {
   "cell_type": "code",
   "execution_count": 28,
   "id": "543f1dba",
   "metadata": {
    "collapsed": false,
    "pycharm": {
     "name": "#%%\n"
    }
   },
   "outputs": [
    {
     "name": "stdout",
     "output_type": "stream",
     "text": [
      "Solution to 2.2.3: Plot: TODO\n"
     ]
    },
    {
     "data": {
      "image/png": "[encoded data removed]",
      "text/plain": [
       "<Figure size 640x480 with 1 Axes>"
      ]
     },
     "metadata": {
      "needs_background": "light"
     },
     "output_type": "display_data"
    }
   ],
   "source": [
    "# Question to 2.2.4\n",
    "from matplotlib.pyplot import figure\n",
    "fig = figure(figsize=(8, 6), dpi=80)\n",
    "# Learning Rate\n",
    "alpha = 10\n",
    "weights_gradient_descent = [0, 0, 0, 0]\n",
    "num_epochs = 500\n",
    "errors = []\n",
    "for epoch in range(0, num_epochs):\n",
    "    # TODO: implement gradient descent loop\n",
    "    # 1. update the weights\n",
    "    weights_gradient_descent = batch_gradient_descent_logreg_epoch(X_train_hd_with_1s, y_train_hd, weights_gradient_descent, alpha)\n",
    "    # 2. calculate and record the error using the current weights\n",
    "    errors.append(mean_squared_error(y_train_hd, logistic_regression_predict(X_train_hd_with_1s, weights_gradient_descent)))\n",
    "    pass\n",
    "print(\"Solution to 2.2.3: Plot: TODO\")\n",
    "plt.plot(errors)\n",
    "plt.show()"
   ]
  },
  {
   "cell_type": "code",
   "execution_count": 29,
   "id": "2dcc36d4",
   "metadata": {
    "collapsed": false,
    "pycharm": {
     "name": "#%%\n"
    }
   },
   "outputs": [
    {
     "name": "stdout",
     "output_type": "stream",
     "text": [
      "Solution to 2.2.3: Plot: TODO\n"
     ]
    },
    {
     "data": {
      "image/png": "[encoded data removed]",
      "text/plain": [
       "<Figure size 640x480 with 1 Axes>"
      ]
     },
     "metadata": {
      "needs_background": "light"
     },
     "output_type": "display_data"
    }
   ],
   "source": [
    "# Question to 2.2.4\n",
    "from matplotlib.pyplot import figure\n",
    "fig = figure(figsize=(8, 6), dpi=80)\n",
    "# Learning Rate\n",
    "alpha = 1\n",
    "weights_gradient_descent = [0, 0, 0, 0]\n",
    "num_epochs = 500\n",
    "errors = []\n",
    "for epoch in range(0, num_epochs):\n",
    "    # TODO: implement gradient descent loop\n",
    "    # 1. update the weights\n",
    "    weights_gradient_descent = batch_gradient_descent_logreg_epoch(X_train_hd_with_1s, y_train_hd, weights_gradient_descent, alpha)\n",
    "    # 2. calculate and record the error using the current weights\n",
    "    errors.append(mean_squared_error(y_train_hd, logistic_regression_predict(X_train_hd_with_1s, weights_gradient_descent)))\n",
    "    pass\n",
    "print(\"Solution to 2.2.3: Plot: TODO\")\n",
    "plt.plot(errors)\n",
    "plt.show()"
   ]
  },
  {
   "cell_type": "code",
   "execution_count": 30,
   "id": "e800fc3a",
   "metadata": {
    "collapsed": false,
    "pycharm": {
     "name": "#%%\n"
    }
   },
   "outputs": [
    {
     "name": "stdout",
     "output_type": "stream",
     "text": [
      "Solution to 2.2.3: Plot: TODO\n"
     ]
    },
    {
     "data": {
      "image/png": "[encoded data removed]",
      "text/plain": [
       "<Figure size 640x480 with 1 Axes>"
      ]
     },
     "metadata": {
      "needs_background": "light"
     },
     "output_type": "display_data"
    }
   ],
   "source": [
    "# Question to 2.2.4\n",
    "from matplotlib.pyplot import figure\n",
    "fig = figure(figsize=(8, 6), dpi=80)\n",
    "# Learning Rate\n",
    "alpha = .01\n",
    "weights_gradient_descent = [0, 0, 0, 0]\n",
    "num_epochs = 500\n",
    "errors = []\n",
    "for epoch in range(0, num_epochs):\n",
    "    # TODO: implement gradient descent loop\n",
    "    # 1. update the weights\n",
    "    weights_gradient_descent = batch_gradient_descent_logreg_epoch(X_train_hd_with_1s, y_train_hd, weights_gradient_descent, alpha)\n",
    "    # 2. calculate and record the error using the current weights\n",
    "    errors.append(mean_squared_error(y_train_hd, logistic_regression_predict(X_train_hd_with_1s, weights_gradient_descent)))\n",
    "    pass\n",
    "print(\"Solution to 2.2.3: Plot: TODO\")\n",
    "plt.plot(errors)\n",
    "plt.show()"
   ]
  },
  {
   "cell_type": "code",
   "execution_count": 31,
   "id": "782735a5",
   "metadata": {
    "collapsed": false,
    "pycharm": {
     "name": "#%%\n"
    }
   },
   "outputs": [
    {
     "name": "stdout",
     "output_type": "stream",
     "text": [
      "Solution to 2.2.3: Plot: TODO\n"
     ]
    },
    {
     "data": {
      "image/png": "[encoded data removed]",
      "text/plain": [
       "<Figure size 640x480 with 1 Axes>"
      ]
     },
     "metadata": {
      "needs_background": "light"
     },
     "output_type": "display_data"
    }
   ],
   "source": [
    "# Question to 2.2.4\n",
    "from matplotlib.pyplot import figure\n",
    "fig = figure(figsize=(8, 6), dpi=80)\n",
    "# Learning Rate\n",
    "alpha = .001\n",
    "weights_gradient_descent = [0, 0, 0, 0]\n",
    "num_epochs = 500\n",
    "errors = []\n",
    "for epoch in range(0, num_epochs):\n",
    "    # TODO: implement gradient descent loop\n",
    "    # 1. update the weights\n",
    "    weights_gradient_descent = batch_gradient_descent_logreg_epoch(X_train_hd_with_1s, y_train_hd, weights_gradient_descent, alpha)\n",
    "    # 2. calculate and record the error using the current weights\n",
    "    errors.append(mean_squared_error(y_train_hd, logistic_regression_predict(X_train_hd_with_1s, weights_gradient_descent)))\n",
    "    pass\n",
    "print(\"Solution to 2.2.3: Plot: TODO\")\n",
    "plt.plot(errors)\n",
    "plt.show()"
   ]
  },
  {
   "cell_type": "code",
   "execution_count": 32,
   "id": "ebdeb60b",
   "metadata": {
    "collapsed": false,
    "pycharm": {
     "name": "#%%\n"
    }
   },
   "outputs": [
    {
     "name": "stdout",
     "output_type": "stream",
     "text": [
      "Solution to 2.2.3: Plot: TODO\n"
     ]
    },
    {
     "data": {
      "image/png": "[encoded data removed]",
      "text/plain": [
       "<Figure size 640x480 with 1 Axes>"
      ]
     },
     "metadata": {
      "needs_background": "light"
     },
     "output_type": "display_data"
    }
   ],
   "source": [
    "# Question to 2.2.4\n",
    "from matplotlib.pyplot import figure\n",
    "fig = figure(figsize=(8, 6), dpi=80)\n",
    "# Learning Rate\n",
    "alpha = .0001\n",
    "weights_gradient_descent = [0, 0, 0, 0]\n",
    "num_epochs = 500\n",
    "errors = []\n",
    "for epoch in range(0, num_epochs):\n",
    "    # TODO: implement gradient descent loop\n",
    "    # 1. update the weights\n",
    "    weights_gradient_descent = batch_gradient_descent_logreg_epoch(X_train_hd_with_1s, y_train_hd, weights_gradient_descent, alpha)\n",
    "    # 2. calculate and record the error using the current weights\n",
    "    errors.append(mean_squared_error(y_train_hd, logistic_regression_predict(X_train_hd_with_1s, weights_gradient_descent)))\n",
    "    pass\n",
    "print(\"Solution to 2.2.3: Plot: TODO\")\n",
    "plt.plot(errors)\n",
    "plt.show()"
   ]
  },
  {
   "cell_type": "code",
   "execution_count": 33,
   "id": "9a57b367",
   "metadata": {},
   "outputs": [
    {
     "name": "stdout",
     "output_type": "stream",
     "text": [
      "Solution to 2.2.5: [0.10709787233701586, 0.28812302214124913, 0.5605398877034028, -0.48039336330785426]\n"
     ]
    }
   ],
   "source": [
    "# Question to 2.2.5\n",
    "# Learning Rate\n",
    "alpha = .01\n",
    "weights_gradient_descent = [0, 0, 0, 0]\n",
    "num_epochs = 500\n",
    "errors = []\n",
    "for epoch in range(0, num_epochs):\n",
    "    weights_gradient_descent = batch_gradient_descent_logreg_epoch(X_train_hd_with_1s, y_train_hd, weights_gradient_descent, alpha)\n",
    "\n",
    "print(f\"Solution to 2.2.5: {weights_gradient_descent}\")"
   ]
  },
  {
   "cell_type": "code",
   "execution_count": 34,
   "id": "092e34ba",
   "metadata": {},
   "outputs": [
    {
     "name": "stdout",
     "output_type": "stream",
     "text": [
      "Solution to 2.2.6: Log loss Train: 0.540040644314593, Test: 0.5533853372611662\n"
     ]
    }
   ],
   "source": [
    "# Question to 2.2.6\n",
    "print(f\"Solution to 2.2.6: Log loss Train: {log_loss(y_train_hd, logistic_regression_predict(X_train_hd_with_1s, weights_gradient_descent))}, Test: {log_loss(y_test_hd, logistic_regression_predict(X_test_hd_with_1s, weights_gradient_descent))}\")"
   ]
  },
  {
   "cell_type": "code",
   "execution_count": 35,
   "id": "ec2dba04",
   "metadata": {},
   "outputs": [
    {
     "name": "stdout",
     "output_type": "stream",
     "text": [
      "Solution to 2.2.7: Accuracy Train: 0.7538940809968847, Test: 0.717391304347826\n"
     ]
    }
   ],
   "source": [
    "# Question to 2.2.7\n",
    "y_train_pred, y_test_pred, threshold = [], [], 0.5\n",
    "for i in logistic_regression_predict(X_train_hd_with_1s, weights_gradient_descent):\n",
    "    if i > threshold:\n",
    "        y_train_pred.append(1)\n",
    "    else:\n",
    "        y_train_pred.append(0)\n",
    "\n",
    "for i in logistic_regression_predict(X_test_hd_with_1s, weights_gradient_descent):\n",
    "    if i > threshold:\n",
    "        y_test_pred.append(1)\n",
    "    else:\n",
    "        y_test_pred.append(0)\n",
    "print(f\"Solution to 2.2.7: Accuracy Train: {accuracy_score(y_train_hd, y_train_pred)}, Test: {accuracy_score(y_test_hd, y_test_pred)}\")"
   ]
  },
  {
   "cell_type": "markdown",
   "id": "ebe591e4",
   "metadata": {},
   "source": [
    "# Question 2.3\n",
    "2.3: Derive $\\frac{d \\sigma}{dw}$ where $\\sigma(x;w) = \\frac{1}{1 + e^{-wx}}$\n",
    "= $\\frac{d}{dw}(1 + e^{-wx})^{-1}$ <--- Apply Chain Rule\n",
    "\n",
    "= $- (1) \\frac{\\frac{d}{dw}(1 + e^{-wx})}{(1 + e^{-wx})^2}$ <--- Finish off the derivative\n",
    "\n",
    "$\\frac{d}{dw}(1 + e^{-wx}) = 0 + -xe^{-wx}$ <--- Apply Chain Rule to derive $e^{-wx}$\n",
    "\n",
    "$\\frac{d \\sigma}{dw}$ = $\\frac{xe^{-w}x}{(1 + e^{-wx})^2}$ <---- final result\n"
   ]
  },
  {
   "cell_type": "markdown",
   "id": "67411e44",
   "metadata": {
    "pycharm": {
     "name": "#%% md\n"
    }
   },
   "source": [
    "# Extra Credit Question 2.4\n",
    "StandardScaler was applied in order to normalize feature values before applying a machine learning model. StandardScaler normalizes the features columns\n",
    "individually so that each feature column will have a mean value of 0 and a standard variation of 0. We applied StandardScaler.fit_transform(X) in order\n",
    "to normalize our feature data so that when we run the machine learning models on the data we will get back easier to understand numbers. If we remove\n",
    "the StandardScaler.fit_transform(X) the information we get back from the machine learning model will be more difficult to understand. In other words\n",
    "if we remove StandardScaler the weights may be very long decimals instead of easier to read numbers. Essentially,\n",
    "StandardScaler is utilized, it 'normalizes' the data so that us as humans can get back more understandable information after using the machine learning model."
   ]
  },
  {
   "cell_type": "markdown",
   "id": "1dbfdc53",
   "metadata": {
    "pycharm": {
     "name": "#%% md\n"
    }
   },
   "source": [
    "# Extra Credit Question 2.5\n",
    "If we choose to consider 50 examles of training data instead of going over every single example in the training set, than we would change the loop's range.\n",
    "The new loop range would only include the 50 examples of training data that we want. The implementation would not really change much, just the range of the for\n",
    "loop would change."
   ]
  }
 ],
 "metadata": {
  "kernelspec": {
   "display_name": "Python 3 (ipykernel)",
   "language": "python",
   "name": "python3"
  },
  "language_info": {
   "codemirror_mode": {
    "name": "ipython",
    "version": 3
   },
   "file_extension": ".py",
   "mimetype": "text/x-python",
   "name": "python",
   "nbconvert_exporter": "python",
   "pygments_lexer": "ipython3",
   "version": "3.7.0"
  }
 },
 "nbformat": 4,
 "nbformat_minor": 5
}
