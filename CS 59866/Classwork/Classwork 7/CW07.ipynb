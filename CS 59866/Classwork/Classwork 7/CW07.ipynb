{
 "cells": [
  {
   "cell_type": "code",
   "execution_count": 2,
   "id": "7cdaa45a",
   "metadata": {},
   "outputs": [],
   "source": [
    "import pandas as pd\n",
    "import numpy as np\n",
    "from matplotlib import pyplot as plt\n",
    "from sklearn.model_selection import train_test_split\n",
    "from sklearn.preprocessing import StandardScaler\n",
    "from sklearn import metrics\n",
    "import torch\n",
    "from torch import nn, tensor\n",
    "from torchvision import models\n",
    "from torchsummary import summary\n",
    "from matplotlib import pyplot as plt\n",
    "# Torch model visualization package\n",
    "import torchviz"
   ]
  },
  {
   "cell_type": "markdown",
   "id": "23b27c04",
   "metadata": {},
   "source": [
    "## PyTorch Tutorial Outline\n",
    "- torch.Tensor\n",
    "- torch.nn.Module\n",
    "- torch.nn.Linear\n",
    "- module.parameters\n",
    "- Forward\n",
    "- Backward\n",
    "\n",
    "\n",
    "- torch.nn.ReLu\n",
    "- torch.nn.Sigmoid\n",
    "- Loss Function\n",
    "- Optimizer\n",
    "- Training Loop"
   ]
  },
  {
   "cell_type": "code",
   "execution_count": 3,
   "id": "1ac6e95a",
   "metadata": {},
   "outputs": [
    {
     "data": {
      "text/plain": [
       "tensor([1., 2., 3.], requires_grad=True)"
      ]
     },
     "execution_count": 3,
     "metadata": {},
     "output_type": "execute_result"
    }
   ],
   "source": [
    "t = torch.tensor([1.,2.,3.], requires_grad=True)\n",
    "t"
   ]
  },
  {
   "cell_type": "code",
   "execution_count": 4,
   "id": "c4d796de",
   "metadata": {},
   "outputs": [
    {
     "data": {
      "text/plain": [
       "torch.Tensor"
      ]
     },
     "execution_count": 4,
     "metadata": {},
     "output_type": "execute_result"
    }
   ],
   "source": [
    "torch.Tensor"
   ]
  },
  {
   "cell_type": "code",
   "execution_count": 5,
   "id": "51ee154f",
   "metadata": {},
   "outputs": [
    {
     "name": "stdout",
     "output_type": "stream",
     "text": [
      "tensor([1., 2., 3.])\n",
      "tensor([[1.],\n",
      "        [2.],\n",
      "        [3.]])\n",
      "tensor([1., 2., 3.])\n",
      "[1. 2. 3.]\n",
      "tensor([[[1., 2.],\n",
      "         [3., 4.]],\n",
      "\n",
      "        [[5., 6.],\n",
      "         [7., 8.]]])\n",
      "torch.Size([2, 2, 2])\n"
     ]
    }
   ],
   "source": [
    "# Torch.tensor: \n",
    "\n",
    "# Can create from lists:\n",
    "print(torch.Tensor([1,2,3,]))\n",
    "print(torch.Tensor([[1], [2], [3]]))\n",
    "\n",
    "# Can create from numpy arrays:\n",
    "print(torch.Tensor(np.array([1, 2, 3])))\n",
    "\n",
    "# Can convert to numpy arrays:\n",
    "print(torch.Tensor([1, 2, 3]).numpy())\n",
    "\n",
    "# Can be more than two dimensional:\n",
    "three_d_tensor = torch.Tensor([[[1, 2], [3, 4]], [[5, 6], [7, 8]]])\n",
    "print(three_d_tensor)\n",
    "\n",
    "#Api similar to numpy:\n",
    "print(three_d_tensor.shape)"
   ]
  },
  {
   "cell_type": "code",
   "execution_count": 6,
   "id": "b32b3502",
   "metadata": {},
   "outputs": [],
   "source": [
    "# torch.nn.Module\n",
    "module = torch.nn.Module()"
   ]
  },
  {
   "cell_type": "code",
   "execution_count": 7,
   "id": "f55ce070",
   "metadata": {},
   "outputs": [],
   "source": [
    "class MyLinear(nn.Module):\n",
    "  def __init__(self, num_dims):\n",
    "    super(MyLinear, self).__init__()\n",
    "    self.weight = torch.nn.Parameter(torch.empty((num_dims)))\n",
    "    self.bias = torch.nn.Parameter(torch.empty(1))\n",
    "\n",
    "  def forward(self, x):\n",
    "    return self.weight * x + self.bias\n",
    "linear = MyLinear(2)\n",
    "res = linear.forward(torch.Tensor([1, 1]))"
   ]
  },
  {
   "cell_type": "code",
   "execution_count": null,
   "id": "b3e727d9",
   "metadata": {},
   "outputs": [],
   "source": [
    "# torch.nn.Linear\n",
    "layer = nn.Linear(2, 1)\n",
    "# Looking at the weight data directly:\n",
    "print(layer.weight.data)\n",
    "print(layer.bias.data)"
   ]
  },
  {
   "cell_type": "code",
   "execution_count": null,
   "id": "4b3d92d3",
   "metadata": {},
   "outputs": [
    {
     "name": "stdout",
     "output_type": "stream",
     "text": [
      "tensor([[0.4815, 0.3710],\n",
      "        [0.2758, 0.2632]])\n",
      "tensor([-0.3787, -0.4860])\n"
     ]
    },
    {
     "data": {
      "text/plain": [
       "tensor([0.4738, 0.0530], grad_fn=<AddBackward0>)"
      ]
     },
     "execution_count": 121,
     "metadata": {},
     "output_type": "execute_result"
    }
   ],
   "source": [
    "# w * x + b\n",
    "layer = nn.Linear(2, 2)\n",
    "# w is the weights\n",
    "print(layer.weight.data)\n",
    "# b is the bias term\n",
    "print(layer.bias.data)\n",
    "# forward: w * x + b\n",
    "layer.forward(torch.Tensor([1., 1.]))"
   ]
  },
  {
   "cell_type": "code",
   "execution_count": null,
   "id": "a7c2d11e",
   "metadata": {},
   "outputs": [
    {
     "data": {
      "text/plain": [
       "-0.5543"
      ]
     },
     "execution_count": 60,
     "metadata": {},
     "output_type": "execute_result"
    }
   ],
   "source": [
    "x1 = 1.\n",
    "x2 = 1.\n",
    "-0.5117 + 0.6573 * x1 + (- 0.6999)*x2"
   ]
  },
  {
   "cell_type": "code",
   "execution_count": null,
   "id": "c85c2288",
   "metadata": {},
   "outputs": [
    {
     "name": "stdout",
     "output_type": "stream",
     "text": [
      "Parameter containing:\n",
      "tensor([0.3602, 1.6975], requires_grad=True)\n",
      "Parameter containing:\n",
      "tensor([0.0051], requires_grad=True)\n"
     ]
    },
    {
     "data": {
      "text/plain": [
       "tensor([2.0628], grad_fn=<AddBackward0>)"
      ]
     },
     "execution_count": 112,
     "metadata": {},
     "output_type": "execute_result"
    }
   ],
   "source": [
    "class MyLinear(torch.nn.Module):\n",
    "  def __init__(self, num_dims):\n",
    "    super(MyLinear, self).__init__()\n",
    "    self.weight = torch.nn.Parameter(torch.randn(num_dims))\n",
    "    self.bias = torch.nn.Parameter(torch.randn(1))\n",
    "\n",
    "  def forward(self, x):\n",
    "    return self.weight.dot(x) + self.bias\n",
    "linear = MyLinear(2)\n",
    "#res = linear.forward(torch.Tensor([1, 1]))\n",
    "print(linear.weight)\n",
    "print(linear.bias)\n",
    "linear.forward(torch.Tensor([1., 1.]))"
   ]
  },
  {
   "cell_type": "code",
   "execution_count": null,
   "id": "f832d98f",
   "metadata": {},
   "outputs": [
    {
     "data": {
      "text/plain": [
       "tensor([1.0143, 0.6837])"
      ]
     },
     "execution_count": 82,
     "metadata": {},
     "output_type": "execute_result"
    }
   ],
   "source": [
    "torch.randn(2)"
   ]
  },
  {
   "cell_type": "code",
   "execution_count": null,
   "id": "795eacee",
   "metadata": {},
   "outputs": [],
   "source": [
    "# Initialize the weights to something else:\n",
    "nn.init.ones_(layer.weight)\n",
    "nn.init.ones_(layer.bias)\n",
    "print(layer.weight.data)\n",
    "print(layer.bias)"
   ]
  },
  {
   "cell_type": "code",
   "execution_count": null,
   "id": "75322e8d",
   "metadata": {},
   "outputs": [],
   "source": [
    "# You can also access these via parameters\n",
    "for p in layer.parameters():\n",
    "    print(p)"
   ]
  },
  {
   "cell_type": "code",
   "execution_count": null,
   "id": "61ce4fbb",
   "metadata": {},
   "outputs": [],
   "source": [
    "# \n",
    "inputs = torch.Tensor([[1, 1], [1, 1]])\n",
    "print(layer.forward(inputs))\n",
    "print(layer.bias)"
   ]
  },
  {
   "cell_type": "code",
   "execution_count": null,
   "id": "f69d93bf",
   "metadata": {},
   "outputs": [
    {
     "data": {
      "text/plain": [
       "tensor(1.)"
      ]
     },
     "execution_count": 30,
     "metadata": {},
     "output_type": "execute_result"
    }
   ],
   "source": [
    "x = torch.tensor(1.0)\n",
    "x"
   ]
  },
  {
   "cell_type": "code",
   "execution_count": null,
   "id": "9b579f24",
   "metadata": {},
   "outputs": [
    {
     "name": "stdout",
     "output_type": "stream",
     "text": [
      "tensor(0.0133)\n",
      "tensor(0.0066)\n",
      "tensor(0.0066)\n",
      "tensor(0.9933, grad_fn=<SigmoidBackward0>)\n"
     ]
    },
    {
     "data": {
      "image/svg+xml": "<?xml version=\"1.0\" encoding=\"UTF-8\" standalone=\"no\"?>\n<!DOCTYPE svg PUBLIC \"-//W3C//DTD SVG 1.1//EN\"\n \"http://www.w3.org/Graphics/SVG/1.1/DTD/svg11.dtd\">\n<!-- Generated by graphviz version 2.40.1 (20161225.0304)\n -->\n<!-- Title: %3 Pages: 1 -->\n<svg width=\"303pt\" height=\"326pt\"\n viewBox=\"0.00 0.00 303.48 326.00\" xmlns=\"http://www.w3.org/2000/svg\" xmlns:xlink=\"http://www.w3.org/1999/xlink\">\n<g id=\"graph0\" class=\"graph\" transform=\"scale(1 1) rotate(0) translate(4 322)\">\n<title>%3</title>\n<polygon fill=\"#ffffff\" stroke=\"transparent\" points=\"-4,4 -4,-322 299.4775,-322 299.4775,4 -4,4\"/>\n<!-- 140497054040776 -->\n<g id=\"node1\" class=\"node\">\n<title>140497054040776</title>\n<polygon fill=\"#caff70\" stroke=\"#000000\" points=\"225.2388,-28 171.2388,-28 171.2388,0 225.2388,0 225.2388,-28\"/>\n<text text-anchor=\"middle\" x=\"198.2388\" y=\"-16\" font-family=\"monospace\" font-size=\"10.00\" fill=\"#000000\">y</text>\n<text text-anchor=\"middle\" x=\"198.2388\" y=\"-6\" font-family=\"monospace\" font-size=\"10.00\" fill=\"#000000\"> ()</text>\n</g>\n<!-- 140497054441424 -->\n<g id=\"node2\" class=\"node\">\n<title>140497054441424</title>\n<polygon fill=\"#d3d3d3\" stroke=\"#000000\" points=\"248.8353,-82 147.6423,-82 147.6423,-64 248.8353,-64 248.8353,-82\"/>\n<text text-anchor=\"middle\" x=\"198.2388\" y=\"-70\" font-family=\"monospace\" font-size=\"10.00\" fill=\"#000000\">SigmoidBackward0</text>\n</g>\n<!-- 140497054441424&#45;&gt;140497054040776 -->\n<g id=\"edge9\" class=\"edge\">\n<title>140497054441424&#45;&gt;140497054040776</title>\n<path fill=\"none\" stroke=\"#000000\" d=\"M198.2388,-63.7813C198.2388,-56.9793 198.2388,-47.3891 198.2388,-38.4394\"/>\n<polygon fill=\"#000000\" stroke=\"#000000\" points=\"201.7389,-38.433 198.2388,-28.433 194.7389,-38.4331 201.7389,-38.433\"/>\n</g>\n<!-- 140497054441200 -->\n<g id=\"node3\" class=\"node\">\n<title>140497054441200</title>\n<polygon fill=\"#d3d3d3\" stroke=\"#000000\" points=\"239.9999,-136 156.4776,-136 156.4776,-118 239.9999,-118 239.9999,-136\"/>\n<text text-anchor=\"middle\" x=\"198.2388\" y=\"-124\" font-family=\"monospace\" font-size=\"10.00\" fill=\"#000000\">AddBackward0</text>\n</g>\n<!-- 140497054441200&#45;&gt;140497054441424 -->\n<g id=\"edge1\" class=\"edge\">\n<title>140497054441200&#45;&gt;140497054441424</title>\n<path fill=\"none\" stroke=\"#000000\" d=\"M198.2388,-117.5939C198.2388,-110.7024 198.2388,-101.1024 198.2388,-92.5741\"/>\n<polygon fill=\"#000000\" stroke=\"#000000\" points=\"201.7389,-92.2983 198.2388,-82.2983 194.7389,-92.2983 201.7389,-92.2983\"/>\n</g>\n<!-- 140497054441032 -->\n<g id=\"node4\" class=\"node\">\n<title>140497054441032</title>\n<polygon fill=\"#d3d3d3\" stroke=\"#000000\" points=\"186.8209,-190 105.6566,-190 105.6566,-172 186.8209,-172 186.8209,-190\"/>\n<text text-anchor=\"middle\" x=\"146.2388\" y=\"-178\" font-family=\"monospace\" font-size=\"10.00\" fill=\"#000000\">MulBackward0</text>\n</g>\n<!-- 140497054441032&#45;&gt;140497054441200 -->\n<g id=\"edge2\" class=\"edge\">\n<title>140497054441032&#45;&gt;140497054441200</title>\n<path fill=\"none\" stroke=\"#000000\" d=\"M155.2965,-171.5939C162.6784,-163.9281 173.2875,-152.9109 182.1136,-143.7454\"/>\n<polygon fill=\"#000000\" stroke=\"#000000\" points=\"184.8695,-145.9293 189.2849,-136.2983 179.8273,-141.0738 184.8695,-145.9293\"/>\n</g>\n<!-- 140497052872264 -->\n<g id=\"node5\" class=\"node\">\n<title>140497052872264</title>\n<polygon fill=\"#d3d3d3\" stroke=\"#000000\" points=\"90.7176,-249 -.24,-249 -.24,-231 90.7176,-231 90.7176,-249\"/>\n<text text-anchor=\"middle\" x=\"45.2388\" y=\"-237\" font-family=\"monospace\" font-size=\"10.00\" fill=\"#000000\">AccumulateGrad</text>\n</g>\n<!-- 140497052872264&#45;&gt;140497054441032 -->\n<g id=\"edge3\" class=\"edge\">\n<title>140497052872264&#45;&gt;140497054441032</title>\n<path fill=\"none\" stroke=\"#000000\" d=\"M61.02,-230.7813C77.3262,-221.2558 102.9928,-206.2625 121.9001,-195.2176\"/>\n<polygon fill=\"#000000\" stroke=\"#000000\" points=\"123.6991,-198.2202 130.5683,-190.154 120.1682,-192.1759 123.6991,-198.2202\"/>\n</g>\n<!-- 140497054565304 -->\n<g id=\"node6\" class=\"node\">\n<title>140497054565304</title>\n<polygon fill=\"#add8e6\" stroke=\"#000000\" points=\"72.2388,-318 18.2388,-318 18.2388,-290 72.2388,-290 72.2388,-318\"/>\n<text text-anchor=\"middle\" x=\"45.2388\" y=\"-306\" font-family=\"monospace\" font-size=\"10.00\" fill=\"#000000\">w</text>\n<text text-anchor=\"middle\" x=\"45.2388\" y=\"-296\" font-family=\"monospace\" font-size=\"10.00\" fill=\"#000000\"> ()</text>\n</g>\n<!-- 140497054565304&#45;&gt;140497052872264 -->\n<g id=\"edge4\" class=\"edge\">\n<title>140497054565304&#45;&gt;140497052872264</title>\n<path fill=\"none\" stroke=\"#000000\" d=\"M45.2388,-289.7963C45.2388,-280.8062 45.2388,-269.0682 45.2388,-259.2467\"/>\n<polygon fill=\"#000000\" stroke=\"#000000\" points=\"48.7389,-259.2207 45.2388,-249.2207 41.7389,-259.2208 48.7389,-259.2207\"/>\n</g>\n<!-- 140497052871368 -->\n<g id=\"node7\" class=\"node\">\n<title>140497052871368</title>\n<polygon fill=\"#d3d3d3\" stroke=\"#000000\" points=\"198.7176,-249 107.76,-249 107.76,-231 198.7176,-231 198.7176,-249\"/>\n<text text-anchor=\"middle\" x=\"153.2388\" y=\"-237\" font-family=\"monospace\" font-size=\"10.00\" fill=\"#000000\">AccumulateGrad</text>\n</g>\n<!-- 140497052871368&#45;&gt;140497054441032 -->\n<g id=\"edge5\" class=\"edge\">\n<title>140497052871368&#45;&gt;140497054441032</title>\n<path fill=\"none\" stroke=\"#000000\" d=\"M152.145,-230.7813C151.1849,-222.689 149.7566,-210.6503 148.5451,-200.4389\"/>\n<polygon fill=\"#000000\" stroke=\"#000000\" points=\"152.0018,-199.8667 147.3479,-190.3487 145.0506,-200.6915 152.0018,-199.8667\"/>\n</g>\n<!-- 140497054565144 -->\n<g id=\"node8\" class=\"node\">\n<title>140497054565144</title>\n<polygon fill=\"#add8e6\" stroke=\"#000000\" points=\"180.2388,-318 126.2388,-318 126.2388,-290 180.2388,-290 180.2388,-318\"/>\n<text text-anchor=\"middle\" x=\"153.2388\" y=\"-306\" font-family=\"monospace\" font-size=\"10.00\" fill=\"#000000\">x</text>\n<text text-anchor=\"middle\" x=\"153.2388\" y=\"-296\" font-family=\"monospace\" font-size=\"10.00\" fill=\"#000000\"> ()</text>\n</g>\n<!-- 140497054565144&#45;&gt;140497052871368 -->\n<g id=\"edge6\" class=\"edge\">\n<title>140497054565144&#45;&gt;140497052871368</title>\n<path fill=\"none\" stroke=\"#000000\" d=\"M153.2388,-289.7963C153.2388,-280.8062 153.2388,-269.0682 153.2388,-259.2467\"/>\n<polygon fill=\"#000000\" stroke=\"#000000\" points=\"156.7389,-259.2207 153.2388,-249.2207 149.7389,-259.2208 156.7389,-259.2207\"/>\n</g>\n<!-- 140497054441088 -->\n<g id=\"node9\" class=\"node\">\n<title>140497054441088</title>\n<polygon fill=\"#d3d3d3\" stroke=\"#000000\" points=\"295.7176,-190 204.76,-190 204.76,-172 295.7176,-172 295.7176,-190\"/>\n<text text-anchor=\"middle\" x=\"250.2388\" y=\"-178\" font-family=\"monospace\" font-size=\"10.00\" fill=\"#000000\">AccumulateGrad</text>\n</g>\n<!-- 140497054441088&#45;&gt;140497054441200 -->\n<g id=\"edge7\" class=\"edge\">\n<title>140497054441088&#45;&gt;140497054441200</title>\n<path fill=\"none\" stroke=\"#000000\" d=\"M241.1811,-171.5939C233.7992,-163.9281 223.19,-152.9109 214.3639,-143.7454\"/>\n<polygon fill=\"#000000\" stroke=\"#000000\" points=\"216.6503,-141.0738 207.1927,-136.2983 211.608,-145.9293 216.6503,-141.0738\"/>\n</g>\n<!-- 140497054566664 -->\n<g id=\"node10\" class=\"node\">\n<title>140497054566664</title>\n<polygon fill=\"#add8e6\" stroke=\"#000000\" points=\"277.2388,-254 223.2388,-254 223.2388,-226 277.2388,-226 277.2388,-254\"/>\n<text text-anchor=\"middle\" x=\"250.2388\" y=\"-242\" font-family=\"monospace\" font-size=\"10.00\" fill=\"#000000\">b</text>\n<text text-anchor=\"middle\" x=\"250.2388\" y=\"-232\" font-family=\"monospace\" font-size=\"10.00\" fill=\"#000000\"> ()</text>\n</g>\n<!-- 140497054566664&#45;&gt;140497054441088 -->\n<g id=\"edge8\" class=\"edge\">\n<title>140497054566664&#45;&gt;140497054441088</title>\n<path fill=\"none\" stroke=\"#000000\" d=\"M250.2388,-225.7177C250.2388,-218.1211 250.2388,-208.6704 250.2388,-200.4168\"/>\n<polygon fill=\"#000000\" stroke=\"#000000\" points=\"253.7389,-200.1904 250.2388,-190.1904 246.7389,-200.1904 253.7389,-200.1904\"/>\n</g>\n</g>\n</svg>\n",
      "text/plain": [
       "<graphviz.graphs.Digraph at 0x7fc804e93b70>"
      ]
     },
     "execution_count": 33,
     "metadata": {},
     "output_type": "execute_result"
    }
   ],
   "source": [
    "x = torch.tensor(1., requires_grad=True)\n",
    "w = torch.tensor(2., requires_grad=True)\n",
    "b = torch.tensor(3., requires_grad=True)\n",
    "y = torch.nn.Sigmoid()(w * x + b)\n",
    "y.backward()\n",
    "print(x.grad)\n",
    "print(w.grad)\n",
    "print(b.grad)\n",
    "print(y)\n",
    "torchviz.make_dot(y, {'x': x, 'w': w, 'b': b, 'y': y})"
   ]
  },
  {
   "cell_type": "code",
   "execution_count": null,
   "id": "2ef63660",
   "metadata": {},
   "outputs": [
    {
     "data": {
      "image/svg+xml": "<?xml version=\"1.0\" encoding=\"UTF-8\" standalone=\"no\"?>\n<!DOCTYPE svg PUBLIC \"-//W3C//DTD SVG 1.1//EN\"\n \"http://www.w3.org/Graphics/SVG/1.1/DTD/svg11.dtd\">\n<!-- Generated by graphviz version 2.40.1 (20161225.0304)\n -->\n<!-- Title: %3 Pages: 1 -->\n<svg width=\"303pt\" height=\"326pt\"\n viewBox=\"0.00 0.00 303.48 326.00\" xmlns=\"http://www.w3.org/2000/svg\" xmlns:xlink=\"http://www.w3.org/1999/xlink\">\n<g id=\"graph0\" class=\"graph\" transform=\"scale(1 1) rotate(0) translate(4 322)\">\n<title>%3</title>\n<polygon fill=\"#ffffff\" stroke=\"transparent\" points=\"-4,4 -4,-322 299.4775,-322 299.4775,4 -4,4\"/>\n<!-- 140497054736616 -->\n<g id=\"node1\" class=\"node\">\n<title>140497054736616</title>\n<polygon fill=\"#caff70\" stroke=\"#000000\" points=\"225.2388,-28 171.2388,-28 171.2388,0 225.2388,0 225.2388,-28\"/>\n<text text-anchor=\"middle\" x=\"198.2388\" y=\"-16\" font-family=\"monospace\" font-size=\"10.00\" fill=\"#000000\">t2</text>\n<text text-anchor=\"middle\" x=\"198.2388\" y=\"-6\" font-family=\"monospace\" font-size=\"10.00\" fill=\"#000000\"> ()</text>\n</g>\n<!-- 140497053785952 -->\n<g id=\"node2\" class=\"node\">\n<title>140497053785952</title>\n<polygon fill=\"#d3d3d3\" stroke=\"#000000\" points=\"248.8353,-82 147.6423,-82 147.6423,-64 248.8353,-64 248.8353,-82\"/>\n<text text-anchor=\"middle\" x=\"198.2388\" y=\"-70\" font-family=\"monospace\" font-size=\"10.00\" fill=\"#000000\">SigmoidBackward0</text>\n</g>\n<!-- 140497053785952&#45;&gt;140497054736616 -->\n<g id=\"edge9\" class=\"edge\">\n<title>140497053785952&#45;&gt;140497054736616</title>\n<path fill=\"none\" stroke=\"#000000\" d=\"M198.2388,-63.7813C198.2388,-56.9793 198.2388,-47.3891 198.2388,-38.4394\"/>\n<polygon fill=\"#000000\" stroke=\"#000000\" points=\"201.7389,-38.433 198.2388,-28.433 194.7389,-38.4331 201.7389,-38.433\"/>\n</g>\n<!-- 140497053785224 -->\n<g id=\"node3\" class=\"node\">\n<title>140497053785224</title>\n<polygon fill=\"#d3d3d3\" stroke=\"#000000\" points=\"239.9999,-136 156.4776,-136 156.4776,-118 239.9999,-118 239.9999,-136\"/>\n<text text-anchor=\"middle\" x=\"198.2388\" y=\"-124\" font-family=\"monospace\" font-size=\"10.00\" fill=\"#000000\">AddBackward0</text>\n</g>\n<!-- 140497053785224&#45;&gt;140497053785952 -->\n<g id=\"edge1\" class=\"edge\">\n<title>140497053785224&#45;&gt;140497053785952</title>\n<path fill=\"none\" stroke=\"#000000\" d=\"M198.2388,-117.5939C198.2388,-110.7024 198.2388,-101.1024 198.2388,-92.5741\"/>\n<polygon fill=\"#000000\" stroke=\"#000000\" points=\"201.7389,-92.2983 198.2388,-82.2983 194.7389,-92.2983 201.7389,-92.2983\"/>\n</g>\n<!-- 140497053786064 -->\n<g id=\"node4\" class=\"node\">\n<title>140497053786064</title>\n<polygon fill=\"#d3d3d3\" stroke=\"#000000\" points=\"186.8209,-190 105.6566,-190 105.6566,-172 186.8209,-172 186.8209,-190\"/>\n<text text-anchor=\"middle\" x=\"146.2388\" y=\"-178\" font-family=\"monospace\" font-size=\"10.00\" fill=\"#000000\">MulBackward0</text>\n</g>\n<!-- 140497053786064&#45;&gt;140497053785224 -->\n<g id=\"edge2\" class=\"edge\">\n<title>140497053786064&#45;&gt;140497053785224</title>\n<path fill=\"none\" stroke=\"#000000\" d=\"M155.2965,-171.5939C162.6784,-163.9281 173.2875,-152.9109 182.1136,-143.7454\"/>\n<polygon fill=\"#000000\" stroke=\"#000000\" points=\"184.8695,-145.9293 189.2849,-136.2983 179.8273,-141.0738 184.8695,-145.9293\"/>\n</g>\n<!-- 140497053782592 -->\n<g id=\"node5\" class=\"node\">\n<title>140497053782592</title>\n<polygon fill=\"#d3d3d3\" stroke=\"#000000\" points=\"90.7176,-249 -.24,-249 -.24,-231 90.7176,-231 90.7176,-249\"/>\n<text text-anchor=\"middle\" x=\"45.2388\" y=\"-237\" font-family=\"monospace\" font-size=\"10.00\" fill=\"#000000\">AccumulateGrad</text>\n</g>\n<!-- 140497053782592&#45;&gt;140497053786064 -->\n<g id=\"edge3\" class=\"edge\">\n<title>140497053782592&#45;&gt;140497053786064</title>\n<path fill=\"none\" stroke=\"#000000\" d=\"M61.02,-230.7813C77.3262,-221.2558 102.9928,-206.2625 121.9001,-195.2176\"/>\n<polygon fill=\"#000000\" stroke=\"#000000\" points=\"123.6991,-198.2202 130.5683,-190.154 120.1682,-192.1759 123.6991,-198.2202\"/>\n</g>\n<!-- 140497054565304 -->\n<g id=\"node6\" class=\"node\">\n<title>140497054565304</title>\n<polygon fill=\"#add8e6\" stroke=\"#000000\" points=\"72.2388,-318 18.2388,-318 18.2388,-290 72.2388,-290 72.2388,-318\"/>\n<text text-anchor=\"middle\" x=\"45.2388\" y=\"-306\" font-family=\"monospace\" font-size=\"10.00\" fill=\"#000000\">w</text>\n<text text-anchor=\"middle\" x=\"45.2388\" y=\"-296\" font-family=\"monospace\" font-size=\"10.00\" fill=\"#000000\"> ()</text>\n</g>\n<!-- 140497054565304&#45;&gt;140497053782592 -->\n<g id=\"edge4\" class=\"edge\">\n<title>140497054565304&#45;&gt;140497053782592</title>\n<path fill=\"none\" stroke=\"#000000\" d=\"M45.2388,-289.7963C45.2388,-280.8062 45.2388,-269.0682 45.2388,-259.2467\"/>\n<polygon fill=\"#000000\" stroke=\"#000000\" points=\"48.7389,-259.2207 45.2388,-249.2207 41.7389,-259.2208 48.7389,-259.2207\"/>\n</g>\n<!-- 140497053784328 -->\n<g id=\"node7\" class=\"node\">\n<title>140497053784328</title>\n<polygon fill=\"#d3d3d3\" stroke=\"#000000\" points=\"198.7176,-249 107.76,-249 107.76,-231 198.7176,-231 198.7176,-249\"/>\n<text text-anchor=\"middle\" x=\"153.2388\" y=\"-237\" font-family=\"monospace\" font-size=\"10.00\" fill=\"#000000\">AccumulateGrad</text>\n</g>\n<!-- 140497053784328&#45;&gt;140497053786064 -->\n<g id=\"edge5\" class=\"edge\">\n<title>140497053784328&#45;&gt;140497053786064</title>\n<path fill=\"none\" stroke=\"#000000\" d=\"M152.145,-230.7813C151.1849,-222.689 149.7566,-210.6503 148.5451,-200.4389\"/>\n<polygon fill=\"#000000\" stroke=\"#000000\" points=\"152.0018,-199.8667 147.3479,-190.3487 145.0506,-200.6915 152.0018,-199.8667\"/>\n</g>\n<!-- 140497054565144 -->\n<g id=\"node8\" class=\"node\">\n<title>140497054565144</title>\n<polygon fill=\"#add8e6\" stroke=\"#000000\" points=\"180.2388,-318 126.2388,-318 126.2388,-290 180.2388,-290 180.2388,-318\"/>\n<text text-anchor=\"middle\" x=\"153.2388\" y=\"-306\" font-family=\"monospace\" font-size=\"10.00\" fill=\"#000000\">x</text>\n<text text-anchor=\"middle\" x=\"153.2388\" y=\"-296\" font-family=\"monospace\" font-size=\"10.00\" fill=\"#000000\"> ()</text>\n</g>\n<!-- 140497054565144&#45;&gt;140497053784328 -->\n<g id=\"edge6\" class=\"edge\">\n<title>140497054565144&#45;&gt;140497053784328</title>\n<path fill=\"none\" stroke=\"#000000\" d=\"M153.2388,-289.7963C153.2388,-280.8062 153.2388,-269.0682 153.2388,-259.2467\"/>\n<polygon fill=\"#000000\" stroke=\"#000000\" points=\"156.7389,-259.2207 153.2388,-249.2207 149.7389,-259.2208 156.7389,-259.2207\"/>\n</g>\n<!-- 140497053785448 -->\n<g id=\"node9\" class=\"node\">\n<title>140497053785448</title>\n<polygon fill=\"#d3d3d3\" stroke=\"#000000\" points=\"295.7176,-190 204.76,-190 204.76,-172 295.7176,-172 295.7176,-190\"/>\n<text text-anchor=\"middle\" x=\"250.2388\" y=\"-178\" font-family=\"monospace\" font-size=\"10.00\" fill=\"#000000\">AccumulateGrad</text>\n</g>\n<!-- 140497053785448&#45;&gt;140497053785224 -->\n<g id=\"edge7\" class=\"edge\">\n<title>140497053785448&#45;&gt;140497053785224</title>\n<path fill=\"none\" stroke=\"#000000\" d=\"M241.1811,-171.5939C233.7992,-163.9281 223.19,-152.9109 214.3639,-143.7454\"/>\n<polygon fill=\"#000000\" stroke=\"#000000\" points=\"216.6503,-141.0738 207.1927,-136.2983 211.608,-145.9293 216.6503,-141.0738\"/>\n</g>\n<!-- 140497054566664 -->\n<g id=\"node10\" class=\"node\">\n<title>140497054566664</title>\n<polygon fill=\"#add8e6\" stroke=\"#000000\" points=\"277.2388,-254 223.2388,-254 223.2388,-226 277.2388,-226 277.2388,-254\"/>\n<text text-anchor=\"middle\" x=\"250.2388\" y=\"-242\" font-family=\"monospace\" font-size=\"10.00\" fill=\"#000000\">b</text>\n<text text-anchor=\"middle\" x=\"250.2388\" y=\"-232\" font-family=\"monospace\" font-size=\"10.00\" fill=\"#000000\"> ()</text>\n</g>\n<!-- 140497054566664&#45;&gt;140497053785448 -->\n<g id=\"edge8\" class=\"edge\">\n<title>140497054566664&#45;&gt;140497053785448</title>\n<path fill=\"none\" stroke=\"#000000\" d=\"M250.2388,-225.7177C250.2388,-218.1211 250.2388,-208.6704 250.2388,-200.4168\"/>\n<polygon fill=\"#000000\" stroke=\"#000000\" points=\"253.7389,-200.1904 250.2388,-190.1904 246.7389,-200.1904 253.7389,-200.1904\"/>\n</g>\n</g>\n</svg>\n",
      "text/plain": [
       "<graphviz.graphs.Digraph at 0x7fc805092080>"
      ]
     },
     "execution_count": 48,
     "metadata": {},
     "output_type": "execute_result"
    }
   ],
   "source": [
    "t2 = torch.nn.Sigmoid()(w * x + b)\n",
    "t2.backward()\n",
    "torchviz.make_dot(t2, {'x': x, 'w': w, 'b': b, 't2': t2})"
   ]
  },
  {
   "cell_type": "code",
   "execution_count": null,
   "id": "84a46e5e",
   "metadata": {},
   "outputs": [
    {
     "data": {
      "text/plain": [
       "tensor(0.9933, grad_fn=<SigmoidBackward0>)"
      ]
     },
     "execution_count": 25,
     "metadata": {},
     "output_type": "execute_result"
    }
   ],
   "source": [
    "y = torch.nn.Sigmoid()(w * x + b)\n",
    "\n",
    "y.backward()\n",
    "y"
   ]
  },
  {
   "cell_type": "code",
   "execution_count": null,
   "id": "c1723b9b",
   "metadata": {},
   "outputs": [],
   "source": [
    "x = torch.tensor(1., requires_grad=True)\n",
    "w = torch.tensor(2., requires_grad=True)\n",
    "b = torch.tensor(3., requires_grad=True)\n",
    "y = torch.nn.Sigmoid()(w * x + b)\n",
    "loss = torch.nn.BCELoss()(y, torch.Tensor([1.]).squeeze())\n",
    "loss.backward()\n",
    "torchviz.make_dot(loss, {'x': x, 'w': w, 'b': b, 'y': y, 'loss': loss})"
   ]
  },
  {
   "cell_type": "code",
   "execution_count": null,
   "id": "4087a799",
   "metadata": {},
   "outputs": [],
   "source": [
    "torch.Tensor([1.]).size()\n",
    "y.size()"
   ]
  },
  {
   "cell_type": "code",
   "execution_count": null,
   "id": "5e64e38b",
   "metadata": {},
   "outputs": [],
   "source": [
    "# 2 hidden layers, the first has 3 units the second has 2 units\n",
    "class TorchOneLayerNN(torch.nn.Module):\n",
    "    def __init__(self, input_dimensions, hidden_size1, hidden_size2):\n",
    "        super(TorchOneLayerNN, self).__init__()\n",
    "        self.z1 = torch.nn.Linear(input_dimensions, hidden_size1)\n",
    "        self.a1 = torch.nn.ReLU()\n",
    "        self.z2 = torch.nn.Linear(hidden_size1, hidden_size2)\n",
    "        self.a2 = torch.nn.ReLU()        \n",
    "        self.z3 = torch.nn.Linear(hidden_size2, 1)\n",
    "        self.a3 = torch.nn.Sigmoid()\n",
    "\n",
    "    def forward(self, x):\n",
    "        print(x)\n",
    "        z1 = self.z1(x)\n",
    "        print(z1)\n",
    "        a1 = self.a1(z1)\n",
    "        print(a1)\n",
    "        z2 = self.z2(a1)\n",
    "        print(z2)\n",
    "        a2 = self.a2(z2)\n",
    "        print(a2)\n",
    "        z3 = self.z3(a2)\n",
    "        print(z3)\n",
    "        a3 = self.a3(z3)\n",
    "        print(a3)\n",
    "        return a3"
   ]
  },
  {
   "cell_type": "code",
   "execution_count": null,
   "id": "7bce918f",
   "metadata": {},
   "outputs": [],
   "source": [
    "network = TorchOneLayerNN(3, 3, 2)"
   ]
  },
  {
   "cell_type": "code",
   "execution_count": null,
   "id": "6dc585b7",
   "metadata": {},
   "outputs": [
    {
     "name": "stdout",
     "output_type": "stream",
     "text": [
      "tensor([[1.0000, 1.0000, 1.0000],\n",
      "        [0.0000, 0.3000, 0.2000]])\n",
      "tensor([[-0.4833, -0.3240, -0.3081],\n",
      "        [-0.1868, -0.1343, -0.1705]], grad_fn=<AddmmBackward0>)\n",
      "tensor([[0., 0., 0.],\n",
      "        [0., 0., 0.]], grad_fn=<ReluBackward0>)\n",
      "tensor([[0.1913, 0.1325],\n",
      "        [0.1913, 0.1325]], grad_fn=<AddmmBackward0>)\n",
      "tensor([[0.1913, 0.1325],\n",
      "        [0.1913, 0.1325]], grad_fn=<ReluBackward0>)\n",
      "tensor([[-0.6166],\n",
      "        [-0.6166]], grad_fn=<AddmmBackward0>)\n",
      "tensor([[0.3506],\n",
      "        [0.3506]], grad_fn=<SigmoidBackward0>)\n"
     ]
    }
   ],
   "source": [
    "y_true = torch.Tensor([[1.], [0.]])\n",
    "y_prediction = network(torch.Tensor(\n",
    "    [\n",
    "        [1., 1., 1.],\n",
    "        [0., .3, .2],\n",
    "    ]\n",
    "))\n",
    "\n",
    "loss_function = torch.nn.BCELoss() \n",
    "loss = loss_function(y_prediction, y_true)"
   ]
  },
  {
   "cell_type": "code",
   "execution_count": null,
   "id": "8760ac65",
   "metadata": {},
   "outputs": [
    {
     "name": "stdout",
     "output_type": "stream",
     "text": [
      "tensor([[-0.2644,  0.2793, -0.2845],\n",
      "        [-0.2612, -0.2836,  0.3377],\n",
      "        [-0.1832, -0.2582,  0.2830]])\n",
      "tensor([-0.2137, -0.1168, -0.1496])\n",
      "tensor([[ 0.3045, -0.2191,  0.1101],\n",
      "        [ 0.0804,  0.2512, -0.0102]])\n",
      "tensor([0.1913, 0.1325])\n",
      "tensor([[ 0.1437, -0.3127]])\n",
      "tensor([-0.6027])\n"
     ]
    }
   ],
   "source": [
    "for i in network.parameters():\n",
    "    print(i.data)"
   ]
  },
  {
   "cell_type": "code",
   "execution_count": null,
   "id": "1390b645",
   "metadata": {},
   "outputs": [
    {
     "data": {
      "text/plain": [
       "tensor([[0., 0., 0.],\n",
       "        [0., 0., 0.],\n",
       "        [0., 0., 0.]])"
      ]
     },
     "execution_count": 199,
     "metadata": {},
     "output_type": "execute_result"
    }
   ],
   "source": [
    "network.z1.weight.grad"
   ]
  },
  {
   "cell_type": "code",
   "execution_count": null,
   "id": "da3c5817",
   "metadata": {},
   "outputs": [],
   "source": [
    "optimizer = torch.optim.SGD(network.parameters(), lr=1e-1)\n"
   ]
  },
  {
   "cell_type": "code",
   "execution_count": null,
   "id": "646b96be",
   "metadata": {},
   "outputs": [
    {
     "data": {
      "text/plain": [
       "tensor([[-0.0286, -0.0198]])"
      ]
     },
     "execution_count": 189,
     "metadata": {},
     "output_type": "execute_result"
    }
   ],
   "source": []
  },
  {
   "cell_type": "code",
   "execution_count": null,
   "id": "eb709f5c",
   "metadata": {},
   "outputs": [
    {
     "data": {
      "text/plain": [
       "tensor(-0.4833)"
      ]
     },
     "execution_count": 165,
     "metadata": {},
     "output_type": "execute_result"
    }
   ],
   "source": [
    "torch.Tensor([-0.2644,  0.2793, -0.2845]).dot(torch.Tensor([1., 1., 1.])) + -0.2137"
   ]
  },
  {
   "cell_type": "code",
   "execution_count": null,
   "id": "31615884",
   "metadata": {},
   "outputs": [
    {
     "data": {
      "text/plain": [
       "Parameter containing:\n",
       "tensor([[ 0.3045, -0.2191,  0.1101],\n",
       "        [ 0.0804,  0.2512, -0.0102]], requires_grad=True)"
      ]
     },
     "execution_count": 168,
     "metadata": {},
     "output_type": "execute_result"
    }
   ],
   "source": [
    "network.z2.weight"
   ]
  },
  {
   "cell_type": "markdown",
   "id": "c2c6cfc1",
   "metadata": {},
   "source": [
    "## Heart Disease Classification with Pytorch"
   ]
  },
  {
   "cell_type": "code",
   "execution_count": null,
   "id": "95a60ef1",
   "metadata": {},
   "outputs": [],
   "source": [
    "# Load the heart disease dataset:\n",
    "columns = ['Age', 'Oldpeak', 'MaxHR', 'HeartDisease']\n",
    "heart_disease_dataframe = pd.read_csv(\"../data/heart.csv\")[columns]\n",
    "\n",
    "# Select out X and Y\n",
    "X = heart_disease_dataframe[['Age', 'Oldpeak', 'MaxHR']].values\n",
    "y = heart_disease_dataframe['HeartDisease'].values\n",
    "\n",
    "# Apply standard scaler to X.\n",
    "X = StandardScaler().fit_transform(X)\n",
    "X_train, X_test, y_train, y_test = train_test_split(X, y, test_size=0.30, random_state=42)\n",
    "\n",
    "X_train_tensor = torch.Tensor(torch.from_numpy(X_train.astype(np.float32)))\n",
    "y_train_tensor = torch.Tensor(torch.from_numpy(y_train.astype(np.float32))).reshape(-1,1)\n",
    "X_test_tensor = torch.Tensor(torch.from_numpy(X_test.astype(np.float32)))\n",
    "y_test_tensor = torch.Tensor(torch.from_numpy(y_test.astype(np.float32))).reshape(-1,1)"
   ]
  },
  {
   "cell_type": "code",
   "execution_count": null,
   "id": "54efacff",
   "metadata": {},
   "outputs": [
    {
     "data": {
      "text/plain": [
       "tensor([[ 0.4762, -0.7386,  0.7542],\n",
       "        [ 0.7944,  1.0438, -1.1322],\n",
       "        [-0.0542, -0.8324, -0.5820],\n",
       "        ...,\n",
       "        [ 0.6883,  0.4809,  0.2826],\n",
       "        [ 0.6883, -0.8324, -0.7392],\n",
       "        [-1.4331,  1.0438, -0.2676]])"
      ]
     },
     "execution_count": 210,
     "metadata": {},
     "output_type": "execute_result"
    }
   ],
   "source": [
    "X_train_tensor"
   ]
  },
  {
   "cell_type": "code",
   "execution_count": null,
   "id": "0db515d3",
   "metadata": {},
   "outputs": [],
   "source": [
    "class TorchLogisticRegression(torch.nn.Module):\n",
    "    def __init__(self, input_dimensions):\n",
    "        super(TorchLogisticRegression, self).__init__()\n",
    "        self.linear = torch.nn.Linear(input_dimensions, 1)\n",
    "        self.output = torch.nn.Sigmoid()\n",
    "\n",
    "    def forward(self, x):\n",
    "        output = self.output(self.linear(x))\n",
    "        return output\n",
    "    \n",
    "# Logistic Regression:\n",
    "# 1 / (1 + exp(-(x_1 * w_1 + ... + b)))\n",
    "# = Sigmoid(x_1 * w_1 + ... + b)\n",
    "# = Sigmoid(Linear(x))"
   ]
  },
  {
   "cell_type": "code",
   "execution_count": null,
   "id": "b7edd715",
   "metadata": {},
   "outputs": [],
   "source": []
  },
  {
   "cell_type": "code",
   "execution_count": null,
   "id": "84a29b69",
   "metadata": {},
   "outputs": [
    {
     "name": "stdout",
     "output_type": "stream",
     "text": [
      "----------------------------------------------------------------\n",
      "        Layer (type)               Output Shape         Param #\n",
      "================================================================\n",
      "            Linear-1                 [-1, 1, 1]               4\n",
      "           Sigmoid-2                 [-1, 1, 1]               0\n",
      "================================================================\n",
      "Total params: 4\n",
      "Trainable params: 4\n",
      "Non-trainable params: 0\n",
      "----------------------------------------------------------------\n",
      "Input size (MB): 0.00\n",
      "Forward/backward pass size (MB): 0.00\n",
      "Params size (MB): 0.00\n",
      "Estimated Total Size (MB): 0.00\n",
      "----------------------------------------------------------------\n"
     ]
    }
   ],
   "source": []
  },
  {
   "cell_type": "code",
   "execution_count": null,
   "id": "9d5cfcbf",
   "metadata": {},
   "outputs": [
    {
     "name": "stdout",
     "output_type": "stream",
     "text": [
      "----------------------------------------------------------------\n",
      "        Layer (type)               Output Shape         Param #\n",
      "================================================================\n",
      "            Linear-1                 [-1, 1, 1]               4\n",
      "           Sigmoid-2                 [-1, 1, 1]               0\n",
      "================================================================\n",
      "Total params: 4\n",
      "Trainable params: 4\n",
      "Non-trainable params: 0\n",
      "----------------------------------------------------------------\n",
      "Input size (MB): 0.00\n",
      "Forward/backward pass size (MB): 0.00\n",
      "Params size (MB): 0.00\n",
      "Estimated Total Size (MB): 0.00\n",
      "----------------------------------------------------------------\n"
     ]
    },
    {
     "data": {
      "text/plain": [
       "[<matplotlib.lines.Line2D at 0x7fc7e7de9ba8>]"
      ]
     },
     "execution_count": 238,
     "metadata": {},
     "output_type": "execute_result"
    },
    {
     "data": {
      "image/png": "[encoded data removed]",
      "text/plain": [
       "<Figure size 432x288 with 1 Axes>"
      ]
     },
     "metadata": {
      "needs_background": "light"
     },
     "output_type": "display_data"
    }
   ],
   "source": [
    "model = TorchLogisticRegression(3)\n",
    "summary(model, (1, 3)) \n",
    "loss_function = torch.nn.BCELoss() \n",
    "optimizer = torch.optim.SGD(model.parameters(), lr=1e-1)\n",
    "\n",
    "errors = []\n",
    "for epoch in range(200):  \n",
    "    optimizer.zero_grad()\n",
    "    outputs = model(X_train_tensor)\n",
    "    loss = loss_function(outputs, y_train_tensor)\n",
    "    errors.append(loss.item())\n",
    "    loss.backward(retain_graph=True)\n",
    "    #print(model.linear.weight.data, model.linear.bias.data)\n",
    "    optimizer.step()\n",
    "plt.plot(errors)"
   ]
  },
  {
   "cell_type": "code",
   "execution_count": null,
   "id": "7f523103",
   "metadata": {},
   "outputs": [
    {
     "name": "stdout",
     "output_type": "stream",
     "text": [
      "Final loss: train: 0.5231859683990479, test: 0.5333408117294312\n",
      "Train Accuracy: 0.7523364485981309, Test Accuracy: 0.717391304347826\n"
     ]
    }
   ],
   "source": [
    "y_predicted_train = model(X_train_tensor)\n",
    "y_predicted_test = model(X_test_tensor)\n",
    "final_loss_train = loss_function(y_predicted_train, y_train_tensor)\n",
    "final_loss_test = loss_function(y_predicted_test, y_test_tensor)\n",
    "print(f\"Final loss: train: {final_loss_train}, test: {final_loss_test}\")\n",
    "\n",
    "y_predicted_train_classes = (y_predicted_train.detach().numpy() > 0.5).astype(float)\n",
    "y_predicted_test_classes = (y_predicted_test.detach().numpy() > 0.5).astype(float)\n",
    "train_accuracy = metrics.accuracy_score(y_train, y_predicted_train_classes)\n",
    "test_accuracy = metrics.accuracy_score(y_test, y_predicted_test_classes)\n",
    "print(f\"Train Accuracy: {train_accuracy}, Test Accuracy: {test_accuracy}\")"
   ]
  },
  {
   "cell_type": "code",
   "execution_count": null,
   "id": "83874bf5",
   "metadata": {},
   "outputs": [],
   "source": [
    "\n",
    "class TorchNN(torch.nn.Module):\n",
    "    def __init__(self, input_dimensions, num_hidden_units=10):\n",
    "        super(TorchNN, self).__init__()\n",
    "        self.linear = torch.nn.Linear(input_dimensions, num_hidden_units)\n",
    "        self.relu1 = torch.nn.ReLU()\n",
    "        self.linear2 = torch.nn.Linear(num_hidden_units, 1)\n",
    "        self.output = torch.nn.Sigmoid()\n",
    "\n",
    "    def forward(self, x):\n",
    "        z1 = self.linear(x)\n",
    "        a1 = self.relu1(z1)\n",
    "        z2 = self.linear2(a1)\n",
    "        return self.output(z2)"
   ]
  },
  {
   "cell_type": "code",
   "execution_count": null,
   "id": "0e60a519",
   "metadata": {},
   "outputs": [
    {
     "name": "stdout",
     "output_type": "stream",
     "text": [
      "----------------------------------------------------------------\n",
      "        Layer (type)               Output Shape         Param #\n",
      "================================================================\n",
      "            Linear-1                [-1, 1, 10]              40\n",
      "              ReLU-2                [-1, 1, 10]               0\n",
      "            Linear-3                 [-1, 1, 1]              11\n",
      "           Sigmoid-4                 [-1, 1, 1]               0\n",
      "================================================================\n",
      "Total params: 51\n",
      "Trainable params: 51\n",
      "Non-trainable params: 0\n",
      "----------------------------------------------------------------\n",
      "Input size (MB): 0.00\n",
      "Forward/backward pass size (MB): 0.00\n",
      "Params size (MB): 0.00\n",
      "Estimated Total Size (MB): 0.00\n",
      "----------------------------------------------------------------\n"
     ]
    },
    {
     "data": {
      "text/plain": [
       "[<matplotlib.lines.Line2D at 0x7fc7e8111668>]"
      ]
     },
     "execution_count": 242,
     "metadata": {},
     "output_type": "execute_result"
    },
    {
     "data": {
      "image/png": "[encoded data removed]",
      "text/plain": [
       "<Figure size 432x288 with 1 Axes>"
      ]
     },
     "metadata": {
      "needs_background": "light"
     },
     "output_type": "display_data"
    }
   ],
   "source": [
    "model = TorchNN(3)\n",
    "summary(model, (1, 3)) \n",
    "loss_function = torch.nn.BCELoss() \n",
    "optimizer = torch.optim.SGD(model.parameters(), lr=1e-1)\n",
    "\n",
    "errors = []\n",
    "for epoch in range(5000):  \n",
    "    optimizer.zero_grad()\n",
    "    outputs = model(X_train_tensor)\n",
    "    loss = loss_function(outputs, y_train_tensor)\n",
    "    errors.append(loss.item())\n",
    "    loss.backward(retain_graph=True)\n",
    "    #print(model.linear.weight.data, model.linear.bias.data)\n",
    "    optimizer.step()\n",
    "plt.plot(errors)"
   ]
  },
  {
   "cell_type": "code",
   "execution_count": null,
   "id": "62f4fbe1",
   "metadata": {},
   "outputs": [
    {
     "name": "stdout",
     "output_type": "stream",
     "text": [
      "Final loss: train: 0.48122671246528625, test: 0.5254710912704468\n",
      "Train Accuracy: 0.7710280373831776, Test Accuracy: 0.7355072463768116\n"
     ]
    }
   ],
   "source": [
    "y_predicted_train = model(X_train_tensor)\n",
    "y_predicted_test = model(X_test_tensor)\n",
    "final_loss_train = loss_function(y_predicted_train, y_train_tensor)\n",
    "final_loss_test = loss_function(y_predicted_test, y_test_tensor)\n",
    "print(f\"Final loss: train: {final_loss_train}, test: {final_loss_test}\")\n",
    "\n",
    "y_predicted_train_classes = (y_predicted_train.detach().numpy() > 0.5).astype(float)\n",
    "y_predicted_test_classes = (y_predicted_test.detach().numpy() > 0.5).astype(float)\n",
    "train_accuracy = metrics.accuracy_score(y_train, y_predicted_train_classes)\n",
    "test_accuracy = metrics.accuracy_score(y_test, y_predicted_test_classes)\n",
    "print(f\"Train Accuracy: {train_accuracy}, Test Accuracy: {test_accuracy}\")"
   ]
  }
 ],
 "metadata": {
  "kernelspec": {
   "display_name": "Python 3 (ipykernel)",
   "language": "python",
   "name": "python3"
  },
  "language_info": {
   "codemirror_mode": {
    "name": "ipython",
    "version": 3
   },
   "file_extension": ".py",
   "mimetype": "text/x-python",
   "name": "python",
   "nbconvert_exporter": "python",
   "pygments_lexer": "ipython3",
   "version": "3.9.6"
  }
 },
 "nbformat": 4,
 "nbformat_minor": 5
}
