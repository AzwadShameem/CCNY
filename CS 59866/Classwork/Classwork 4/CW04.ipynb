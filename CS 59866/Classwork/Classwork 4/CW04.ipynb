{
 "cells": [
  {
   "cell_type": "code",
   "execution_count": 18,
   "metadata": {
    "collapsed": true
   },
   "outputs": [],
   "source": [
    "import numpy as np\n",
    "from sklearn.metrics import precision_recall_curve, roc_curve, auc, log_loss\n",
    "import matplotlib.pyplot as plt"
   ]
  },
  {
   "cell_type": "code",
   "execution_count": 19,
   "metadata": {
    "collapsed": false,
    "pycharm": {
     "name": "#%%\n"
    }
   },
   "outputs": [],
   "source": [
    "y_true = np.array([1., 1., 1., 1., 1., 0., 0., 0., 0.])\n",
    "y_predicted = np.array([.9, .8, .6, .3, .4, .51, .2, .1, .3])"
   ]
  },
  {
   "cell_type": "code",
   "execution_count": 20,
   "metadata": {
    "collapsed": false,
    "pycharm": {
     "name": "#%%\n"
    }
   },
   "outputs": [
    {
     "data": {
      "text/plain": [
       "0.4842357917473723"
      ]
     },
     "execution_count": 20,
     "metadata": {},
     "output_type": "execute_result"
    }
   ],
   "source": [
    "log_loss(y_true, y_predicted)"
   ]
  },
  {
   "cell_type": "code",
   "execution_count": 21,
   "metadata": {
    "collapsed": false,
    "pycharm": {
     "name": "#%%\n"
    }
   },
   "outputs": [
    {
     "data": {
      "text/plain": [
       "0.455"
      ]
     },
     "execution_count": 21,
     "metadata": {},
     "output_type": "execute_result"
    }
   ],
   "source": [
    "auc(y_true, y_predicted)"
   ]
  },
  {
   "cell_type": "code",
   "execution_count": 22,
   "metadata": {
    "collapsed": false,
    "pycharm": {
     "name": "#%%\n"
    }
   },
   "outputs": [
    {
     "name": "stdout",
     "output_type": "stream",
     "text": [
      "[0.   0.   0.   0.25 0.25 0.5  1.  ]\n",
      "[0.  0.2 0.6 0.6 0.8 1.  1. ]\n",
      "[1.9  0.9  0.6  0.51 0.4  0.3  0.1 ]\n"
     ]
    },
    {
     "data": {
      "text/plain": [
       "0.875"
      ]
     },
     "execution_count": 22,
     "metadata": {},
     "output_type": "execute_result"
    },
    {
     "data": {
      "image/png": "[encoded data removed]",
      "text/plain": [
       "<Figure size 432x288 with 1 Axes>"
      ]
     },
     "metadata": {
      "needs_background": "light"
     },
     "output_type": "display_data"
    }
   ],
   "source": [
    "fpr, tpr, thresholds = roc_curve(y_true, y_predicted)\n",
    "print(fpr)\n",
    "print(tpr)\n",
    "print(thresholds)\n",
    "plt.plot(fpr, tpr)\n",
    "auc(fpr, tpr)"
   ]
  },
  {
   "cell_type": "code",
   "execution_count": 23,
   "metadata": {
    "collapsed": false,
    "pycharm": {
     "name": "#%%\n"
    }
   },
   "outputs": [
    {
     "name": "stdout",
     "output_type": "stream",
     "text": [
      "[0.71428571 0.8        0.75       1.         1.         1.\n",
      " 1.        ]\n",
      "[1.  0.8 0.6 0.6 0.4 0.2 0. ]\n",
      "[0.3  0.4  0.51 0.6  0.8  0.9 ]\n"
     ]
    }
   ],
   "source": [
    "precision, recall, thresholds = precision_recall_curve(y_true, y_predicted)\n",
    "print(precision)\n",
    "print(recall)\n",
    "print(thresholds)\n",
    "precision_recall_curve()"
   ]
  },
  {
   "cell_type": "code",
   "execution_count": 24,
   "metadata": {
    "collapsed": false,
    "pycharm": {
     "name": "#%%\n"
    }
   },
   "outputs": [],
   "source": [
    "def classifier(y_true, y_predicted, threshold):\n",
    "    TP, FN, FP, TN = 0, 0, 0, 0\n",
    "    for i in range(len(y_true)):\n",
    "        if (y_true[i] > threshold) & (y_predicted[i] > threshold):\n",
    "           TP += 1\n",
    "        if (y_true[i] < threshold) & (y_predicted[i] > threshold):\n",
    "           FP += 1\n",
    "        if (y_true[i] < threshold) & (y_predicted[i] < threshold):\n",
    "           TN += 1\n",
    "        if (y_true[i] > threshold) & (y_predicted[i] < threshold):\n",
    "           FN += 1\n",
    "    return TP, FN, FP, TN"
   ]
  },
  {
   "cell_type": "code",
   "execution_count": 25,
   "metadata": {
    "collapsed": false,
    "pycharm": {
     "name": "#%%\n"
    }
   },
   "outputs": [
    {
     "name": "stdout",
     "output_type": "stream",
     "text": [
      "3 2 1 3\n",
      "ACC (accuracy): 0.6666666666666666\n",
      "TPR (recall): 0.6\n",
      "FNR: 0.4\n",
      "TNR: 0.75\n",
      "FPR: 0.25\n",
      "PPV or Precision: 0.75\n",
      "FDR: 0.25\n"
     ]
    }
   ],
   "source": [
    "TP, FN, FP, TN = classifier(y_true, y_predicted, .5)\n",
    "print(TP, FN, FP, TN)\n",
    "print(\"ACC (accuracy):\", (TP + TN)/(TP + TN + FP + FN))\n",
    "print(\"TPR (recall):\", TP/(TP+FN))\n",
    "print(\"FNR:\", 1 - TP/(TP+FN))\n",
    "print(\"TNR:\", TN/(TN+FP))\n",
    "print(\"FPR:\", 1- TN/(TN+FP))\n",
    "print(\"PPV or Precision:\", TP/ (TP+FP))\n",
    "print(\"FDR:\", 1 - TP/ (TP+FP))"
   ]
  },
  {
   "cell_type": "code",
   "execution_count": 26,
   "metadata": {
    "collapsed": false,
    "pycharm": {
     "name": "#%%\n"
    }
   },
   "outputs": [
    {
     "ename": "TypeError",
     "evalue": "classifier() takes 3 positional arguments but 4 were given",
     "output_type": "error",
     "traceback": [
      "\u001b[1;31m---------------------------------------------------------------------------\u001b[0m",
      "\u001b[1;31mTypeError\u001b[0m                                 Traceback (most recent call last)",
      "\u001b[1;32mc:\\Users\\azwad\\Documents\\CS_59866\\Classwork\\Classwork 4\\CW04.ipynb Cell 9'\u001b[0m in \u001b[0;36m<cell line: 1>\u001b[1;34m()\u001b[0m\n\u001b[1;32m----> <a href='vscode-notebook-cell:/c%3A/Users/azwad/Documents/CS_59866/Classwork/Classwork%204/CW04.ipynb#ch0000008?line=0'>1</a>\u001b[0m TP, FN, FP, TN \u001b[39m=\u001b[39m classifier(y_true, y_predicted, \u001b[39mlen\u001b[39;49m(y_true), \u001b[39m.75\u001b[39;49m)\n\u001b[0;32m      <a href='vscode-notebook-cell:/c%3A/Users/azwad/Documents/CS_59866/Classwork/Classwork%204/CW04.ipynb#ch0000008?line=1'>2</a>\u001b[0m \u001b[39mprint\u001b[39m(TP, FN, FP, TN)\n\u001b[0;32m      <a href='vscode-notebook-cell:/c%3A/Users/azwad/Documents/CS_59866/Classwork/Classwork%204/CW04.ipynb#ch0000008?line=2'>3</a>\u001b[0m \u001b[39mprint\u001b[39m(\u001b[39m\"\u001b[39m\u001b[39mACC (accuracy):\u001b[39m\u001b[39m\"\u001b[39m, (TP \u001b[39m+\u001b[39m TN)\u001b[39m/\u001b[39m(TP \u001b[39m+\u001b[39m TN \u001b[39m+\u001b[39m FP \u001b[39m+\u001b[39m FN))\n",
      "\u001b[1;31mTypeError\u001b[0m: classifier() takes 3 positional arguments but 4 were given"
     ]
    }
   ],
   "source": [
    "TP, FN, FP, TN = classifier(y_true, y_predicted, len(y_true), .75)\n",
    "print(TP, FN, FP, TN)\n",
    "print(\"ACC (accuracy):\", (TP + TN)/(TP + TN + FP + FN))\n",
    "print(\"TPR (recall):\", TP/(TP+FN))\n",
    "print(\"FNR:\", 1 - TP/(TP+FN))\n",
    "print(\"TNR:\", TN/(TN+FP))\n",
    "print(\"FPR:\", 1- TN/(TN+FP))\n",
    "print(\"PPV or Precision:\", TP/ (TP+FP))\n",
    "print(\"FDR:\", 1 - TP/ (TP+FP))"
   ]
  }
 ],
 "metadata": {
  "kernelspec": {
   "display_name": "Python 3",
   "language": "python",
   "name": "python3"
  },
  "language_info": {
   "codemirror_mode": {
    "name": "ipython",
    "version": 3
   },
   "file_extension": ".py",
   "mimetype": "text/x-python",
   "name": "python",
   "nbconvert_exporter": "python",
   "pygments_lexer": "ipython3",
   "version": "3.9.6"
  }
 },
 "nbformat": 4,
 "nbformat_minor": 0
}
