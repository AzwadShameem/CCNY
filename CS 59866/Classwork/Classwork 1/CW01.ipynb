{
 "cells": [
  {
   "cell_type": "code",
   "execution_count": 9,
   "metadata": {
    "collapsed": true
   },
   "outputs": [],
   "source": [
    "x = [400, 550, 800, 1200, 2000, 3000]\n",
    "y = [242, 317, 442, 641, 1042, 1792]"
   ]
  },
  {
   "cell_type": "code",
   "execution_count": 10,
   "outputs": [
    {
     "name": "stdout",
     "output_type": "stream",
     "text": [
      "591.1698113207547\n"
     ]
    }
   ],
   "source": [
    "def predict_price(square_footage):\n",
    "    sumx, sumy = 0, 0\n",
    "    for i in range(len(x)):\n",
    "        sumx += x[i]\n",
    "        sumy += y[i]\n",
    "    avg = sumy / sumx\n",
    "    price = square_footage * avg\n",
    "    return price\n",
    "print(predict_price(1050))"
   ],
   "metadata": {
    "collapsed": false,
    "pycharm": {
     "name": "#%%\n"
    }
   }
  },
  {
   "cell_type": "code",
   "execution_count": null,
   "outputs": [],
   "source": [
    "x2 = [22, 25, 35, 45, 55, 65, 75, 83, 96]\n",
    "y2 = [0, 1, 0, 0, 0, 1, 1, 1, 0]\n",
    "\n",
    "\n",
    "def has_heart_disease(age):\n",
    "    return 0"
   ],
   "metadata": {
    "collapsed": false,
    "pycharm": {
     "name": "#%%\n"
    }
   }
  }
 ],
 "metadata": {
  "kernelspec": {
   "display_name": "Python 3",
   "language": "python",
   "name": "python3"
  },
  "language_info": {
   "codemirror_mode": {
    "name": "ipython",
    "version": 2
   },
   "file_extension": ".py",
   "mimetype": "text/x-python",
   "name": "python",
   "nbconvert_exporter": "python",
   "pygments_lexer": "ipython2",
   "version": "2.7.6"
  }
 },
 "nbformat": 4,
 "nbformat_minor": 0
}