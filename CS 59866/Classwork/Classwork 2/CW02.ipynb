{
 "cells": [
  {
   "cell_type": "code",
   "execution_count": 1,
   "metadata": {
    "collapsed": true
   },
   "outputs": [],
   "source": [
    "import numpy as np"
   ]
  },
  {
   "cell_type": "code",
   "execution_count": 2,
   "outputs": [],
   "source": [
    "# Regression Problem:\n",
    "# Square Footage:\n",
    "x = [400, 550, 800, 1200, 2000, 3000]\n",
    "# Price:\n",
    "y = [399, 492, 596, 817, 1200, 1937]"
   ],
   "metadata": {
    "collapsed": false,
    "pycharm": {
     "name": "#%%\n"
    }
   }
  },
  {
   "cell_type": "code",
   "execution_count": 3,
   "outputs": [
    {
     "name": "stdout",
     "output_type": "stream",
     "text": [
      "[142.5659263    0.57680559]\n"
     ]
    }
   ],
   "source": [
    "# Solve for optimal weights using linear least squares\n",
    "z = np.array([[1, 400], [1, 550], [1, 800], [1, 1200], [1, 2000], [1, 3000]])\n",
    "weights = np.linalg.inv((z.T).dot(z)).dot(z.T).dot(y)\n",
    "print(weights)"
   ],
   "metadata": {
    "collapsed": false,
    "pycharm": {
     "name": "#%%\n"
    }
   }
  },
  {
   "cell_type": "code",
   "execution_count": 4,
   "outputs": [],
   "source": [
    "def predict_price(square_footage, weights):\n",
    "    price = weights[0] + weights[1] * square_footage\n",
    "    return price"
   ],
   "metadata": {
    "collapsed": false,
    "pycharm": {
     "name": "#%%\n"
    }
   }
  },
  {
   "cell_type": "code",
   "execution_count": 5,
   "outputs": [
    {
     "name": "stdout",
     "output_type": "stream",
     "text": [
      "Predicted Price:  373.28816238249783  ---> Actual price:  399  ---> Difference from actual price:  25.71183761750217\n",
      "Predicted Price:  459.80900091506584  ---> Actual price:  492  ---> Difference from actual price:  32.19099908493416\n",
      "Predicted Price:  604.0103984693458  ---> Actual price:  596  ---> Difference from actual price:  8.010398469345773\n",
      "Predicted Price:  834.7326345561938  ---> Actual price:  817  ---> Difference from actual price:  17.73263455619383\n",
      "Predicted Price:  1296.17710672989  ---> Actual price:  1200  ---> Difference from actual price:  96.17710672989006\n",
      "Predicted Price:  1872.98269694701  ---> Actual price:  1937  ---> Difference from actual price:  64.01730305298997\n"
     ]
    }
   ],
   "source": [
    "for i in range(len(x)):\n",
    "    print(\"Predicted Price: \", predict_price(x[i], weights), \" ---> Actual price: \", y[i], \" ---> Difference from actual price: \", abs(predict_price(x[i], weights) - y[i]))"
   ],
   "metadata": {
    "collapsed": false,
    "pycharm": {
     "name": "#%%\n"
    }
   }
  }
 ],
 "metadata": {
  "kernelspec": {
   "display_name": "Python 3",
   "language": "python",
   "name": "python3"
  },
  "language_info": {
   "codemirror_mode": {
    "name": "ipython",
    "version": 2
   },
   "file_extension": ".py",
   "mimetype": "text/x-python",
   "name": "python",
   "nbconvert_exporter": "python",
   "pygments_lexer": "ipython2",
   "version": "2.7.6"
  }
 },
 "nbformat": 4,
 "nbformat_minor": 0
}