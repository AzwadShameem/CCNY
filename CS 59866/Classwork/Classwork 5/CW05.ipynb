{
 "cells": [
  {
   "cell_type": "code",
   "execution_count": 37,
   "metadata": {
    "collapsed": true
   },
   "outputs": [],
   "source": [
    "import pandas as pd\n",
    "import numpy as np"
   ]
  },
  {
   "cell_type": "code",
   "execution_count": 4,
   "outputs": [
    {
     "data": {
      "text/plain": "  Raw data Name  #Previous Emails From Sender Platform       Sender Email  \\\n0         Row 0                             0  Desktop   hacker@gmail.com   \n1         Row 1                           238   Mobile    bob@company.com   \n2         Row 2                         40389  Desktop  admin@company.com   \n3         Row 3                             2   Tablet        ceo@xyz.com   \n\n                                             Body Origin State   Class  \n0                  Please reset your password now   California  Attack  \n1                           Hey, wanna get lunch?     New York    Safe  \n2     Please update your passwords by end of week       Kansas    Safe  \n3  Update my direct deposit account # immediately     Illinois  Attack  ",
      "text/html": "<div>\n<style scoped>\n    .dataframe tbody tr th:only-of-type {\n        vertical-align: middle;\n    }\n\n    .dataframe tbody tr th {\n        vertical-align: top;\n    }\n\n    .dataframe thead th {\n        text-align: right;\n    }\n</style>\n<table border=\"1\" class=\"dataframe\">\n  <thead>\n    <tr style=\"text-align: right;\">\n      <th></th>\n      <th>Raw data Name</th>\n      <th>#Previous Emails From Sender</th>\n      <th>Platform</th>\n      <th>Sender Email</th>\n      <th>Body</th>\n      <th>Origin State</th>\n      <th>Class</th>\n    </tr>\n  </thead>\n  <tbody>\n    <tr>\n      <th>0</th>\n      <td>Row 0</td>\n      <td>0</td>\n      <td>Desktop</td>\n      <td>hacker@gmail.com</td>\n      <td>Please reset your password now</td>\n      <td>California</td>\n      <td>Attack</td>\n    </tr>\n    <tr>\n      <th>1</th>\n      <td>Row 1</td>\n      <td>238</td>\n      <td>Mobile</td>\n      <td>bob@company.com</td>\n      <td>Hey, wanna get lunch?</td>\n      <td>New York</td>\n      <td>Safe</td>\n    </tr>\n    <tr>\n      <th>2</th>\n      <td>Row 2</td>\n      <td>40389</td>\n      <td>Desktop</td>\n      <td>admin@company.com</td>\n      <td>Please update your passwords by end of week</td>\n      <td>Kansas</td>\n      <td>Safe</td>\n    </tr>\n    <tr>\n      <th>3</th>\n      <td>Row 3</td>\n      <td>2</td>\n      <td>Tablet</td>\n      <td>ceo@xyz.com</td>\n      <td>Update my direct deposit account # immediately</td>\n      <td>Illinois</td>\n      <td>Attack</td>\n    </tr>\n  </tbody>\n</table>\n</div>"
     },
     "execution_count": 4,
     "metadata": {},
     "output_type": "execute_result"
    }
   ],
   "source": [
    "df = pd.read_csv(\"../../Data/data.csv\")\n",
    "df"
   ],
   "metadata": {
    "collapsed": false,
    "pycharm": {
     "name": "#%%\n"
    }
   }
  },
  {
   "cell_type": "code",
   "execution_count": 8,
   "outputs": [],
   "source": [
    "prevEmails = df[\"#Previous Emails From Sender\"]"
   ],
   "metadata": {
    "collapsed": false,
    "pycharm": {
     "name": "#%%\n"
    }
   }
  },
  {
   "cell_type": "code",
   "execution_count": 56,
   "outputs": [
    {
     "name": "stdout",
     "output_type": "stream",
     "text": [
      "0.0\n",
      "0.005892693555175914\n",
      "1.0\n",
      "4.951843323677239e-05\n"
     ]
    }
   ],
   "source": [
    "for i in prevEmails:\n",
    "    print( (i-min(prevEmails)) / (max(prevEmails)-min(prevEmails)) ) # not good one number is too low"
   ],
   "metadata": {
    "collapsed": false,
    "pycharm": {
     "name": "#%%\n"
    }
   }
  },
  {
   "cell_type": "code",
   "execution_count": 44,
   "outputs": [
    {
     "name": "stdout",
     "output_type": "stream",
     "text": [
      "-0.5819247233932411\n",
      "-0.5682893315137864\n",
      "1.732024195175231\n",
      "-0.5818101402682037\n"
     ]
    }
   ],
   "source": [
    "# deviations = [(i - mean(prevEmails)) ** 2 for i in prevEmails]\n",
    "# sum = 0\n",
    "# for i in deviations:\n",
    "#     sum += i\n",
    "# variance = sum/len(prevEmails)\n",
    "# e = sqrt(variance)\n",
    "#\n",
    "# for i in prevEmails:\n",
    "#     print(i/e)\n",
    "std = np.std(prevEmails)\n",
    "mean = np.mean(prevEmails)\n",
    "for i in prevEmails:\n",
    "    print((i-mean)/std)"
   ],
   "metadata": {
    "collapsed": false,
    "pycharm": {
     "name": "#%%\n"
    }
   }
  },
  {
   "cell_type": "code",
   "execution_count": 51,
   "outputs": [
    {
     "name": "stdout",
     "output_type": "stream",
     "text": [
      "[1, 0, 0]\n",
      "[0, 1, 0]\n",
      "[0, 0, 1]\n"
     ]
    }
   ],
   "source": [
    "# One-Hot Encoding\n",
    "def oneHotEncode(i):\n",
    "    encodedList = [0 if j != i else 1 for j in list(dict.fromkeys(df[\"Platform\"]))]\n",
    "    return encodedList\n",
    "\n",
    "for i in list(dict.fromkeys(df[\"Platform\"])):\n",
    "    print(oneHotEncode(i))\n"
   ],
   "metadata": {
    "collapsed": false,
    "pycharm": {
     "name": "#%%\n"
    }
   }
  },
  {
   "cell_type": "code",
   "execution_count": null,
   "outputs": [],
   "source": [],
   "metadata": {
    "collapsed": false,
    "pycharm": {
     "name": "#%%\n"
    }
   }
  }
 ],
 "metadata": {
  "kernelspec": {
   "display_name": "Python 3",
   "language": "python",
   "name": "python3"
  },
  "language_info": {
   "codemirror_mode": {
    "name": "ipython",
    "version": 2
   },
   "file_extension": ".py",
   "mimetype": "text/x-python",
   "name": "python",
   "nbconvert_exporter": "python",
   "pygments_lexer": "ipython2",
   "version": "2.7.6"
  }
 },
 "nbformat": 4,
 "nbformat_minor": 0
}