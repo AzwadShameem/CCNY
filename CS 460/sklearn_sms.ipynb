{
 "cells": [
  {
   "cell_type": "code",
   "execution_count": 1,
   "outputs": [],
   "source": [
    "import pandas as pd\n",
    "import matplotlib.pyplot as plt\n",
    "from sklearn.pipeline import Pipeline\n",
    "from sklearn.naive_bayes import ComplementNB\n",
    "from sklearn.neural_network import MLPClassifier\n",
    "from sklearn.model_selection import train_test_split\n",
    "from sklearn.feature_extraction.text import TfidfVectorizer\n",
    "from sklearn.metrics import classification_report, accuracy_score,precision_score, recall_score, precision_recall_curve, auc, confusion_matrix, ConfusionMatrixDisplay"
   ],
   "metadata": {
    "collapsed": false
   }
  },
  {
   "cell_type": "code",
   "execution_count": 2,
   "outputs": [],
   "source": [
    "def run(model):\n",
    "    print(model)\n",
    "\n",
    "    # Loading Data\n",
    "    df = pd.read_csv(\"undersampled_spam.csv\", encoding=\"latin\")\n",
    "    df = df.dropna()\n",
    "\n",
    "    # Splitting Data\n",
    "    features, labels = df[\"processedSMS\"] , df[\"type\"]\n",
    "    x_train, x_test, y_train, y_test = train_test_split(features, labels, test_size=0.3, random_state=2022, stratify=labels)\n",
    "    x_test, x_val, y_test, y_val = train_test_split(x_test, y_test, test_size=0.5, random_state=2022, stratify=y_test)\n",
    "\n",
    "    # Train Model\n",
    "    pipeline = Pipeline([(\"vector\", TfidfVectorizer()), (\"model\", model)]).fit(x_train, y_train)\n",
    "\n",
    "    # Validate Model\n",
    "    print(\"Validation Results:\")\n",
    "    y_pred = pipeline.predict(x_val)\n",
    "    print(classification_report(y_val, y_pred))\n",
    "\n",
    "    # Test Model\n",
    "    print(\"Testing Results:\")\n",
    "    y_pred = pipeline.predict(x_test)\n",
    "    print(classification_report(y_test, y_pred))\n",
    "\n",
    "    # More Testing Results\n",
    "    print(f\"Accuracy: {accuracy_score(y_test, y_pred)}\")\n",
    "    print(f\"Precision: {precision_score(y_test, y_pred, zero_division=0)}\")\n",
    "    print(f\"Recall: {recall_score(y_test, y_pred, zero_division=0)}\")\n",
    "    rc1, rc2, rc3 = precision_recall_curve(y_test, y_pred)\n",
    "    print(f\"PR_AUC: {auc(rc2,  rc1)}\")\n",
    "    ConfusionMatrixDisplay(confusion_matrix=confusion_matrix(y_test, y_pred), display_labels=[0, 1]).plot()\n",
    "    plt.show()"
   ],
   "metadata": {
    "collapsed": false
   }
  },
  {
   "cell_type": "markdown",
   "source": [
    "<p style=\"text-align: center;\">ComplementNB</p>"
   ],
   "metadata": {
    "collapsed": false
   }
  },
  {
   "cell_type": "code",
   "execution_count": 3,
   "outputs": [
    {
     "name": "stdout",
     "output_type": "stream",
     "text": [
      "ComplementNB()\n",
      "Validation Results:\n",
      "              precision    recall  f1-score   support\n",
      "\n",
      "           0       0.96      0.98      0.97       112\n",
      "           1       0.98      0.96      0.97       113\n",
      "\n",
      "    accuracy                           0.97       225\n",
      "   macro avg       0.97      0.97      0.97       225\n",
      "weighted avg       0.97      0.97      0.97       225\n",
      "\n",
      "Testing Results:\n",
      "              precision    recall  f1-score   support\n",
      "\n",
      "           0       0.98      0.94      0.96       112\n",
      "           1       0.94      0.98      0.96       112\n",
      "\n",
      "    accuracy                           0.96       224\n",
      "   macro avg       0.96      0.96      0.96       224\n",
      "weighted avg       0.96      0.96      0.96       224\n",
      "\n",
      "Accuracy: 0.9598214285714286\n",
      "Precision: 0.9401709401709402\n",
      "Recall: 0.9821428571428571\n",
      "PR_AUC: 0.9656211843711844\n"
     ]
    },
    {
     "data": {
      "text/plain": "<Figure size 640x480 with 2 Axes>",
      "image/png": "[encoded data removed]"
     },
     "metadata": {},
     "output_type": "display_data"
    }
   ],
   "source": [
    "run(ComplementNB())"
   ],
   "metadata": {
    "collapsed": false
   }
  },
  {
   "cell_type": "markdown",
   "source": [
    "<p style=\"text-align: center;\">Neural Network</p>"
   ],
   "metadata": {
    "collapsed": false
   }
  },
  {
   "cell_type": "code",
   "execution_count": 4,
   "outputs": [
    {
     "name": "stdout",
     "output_type": "stream",
     "text": [
      "MLPClassifier(max_iter=3000)\n",
      "Validation Results:\n",
      "              precision    recall  f1-score   support\n",
      "\n",
      "           0       0.94      0.97      0.96       112\n",
      "           1       0.97      0.94      0.95       113\n",
      "\n",
      "    accuracy                           0.96       225\n",
      "   macro avg       0.96      0.96      0.96       225\n",
      "weighted avg       0.96      0.96      0.96       225\n",
      "\n",
      "Testing Results:\n",
      "              precision    recall  f1-score   support\n",
      "\n",
      "           0       0.97      0.95      0.96       112\n",
      "           1       0.95      0.97      0.96       112\n",
      "\n",
      "    accuracy                           0.96       224\n",
      "   macro avg       0.96      0.96      0.96       224\n",
      "weighted avg       0.96      0.96      0.96       224\n",
      "\n",
      "Accuracy: 0.9598214285714286\n",
      "Precision: 0.9478260869565217\n",
      "Recall: 0.9732142857142857\n",
      "PR_AUC: 0.9672166149068323\n"
     ]
    },
    {
     "data": {
      "text/plain": "<Figure size 640x480 with 2 Axes>",
      "image/png": "[encoded data removed]"
     },
     "metadata": {},
     "output_type": "display_data"
    }
   ],
   "source": [
    "run(MLPClassifier(max_iter=3000))"
   ],
   "metadata": {
    "collapsed": false
   }
  }
 ],
 "metadata": {
  "kernelspec": {
   "display_name": "Python 3.9.12 ('base')",
   "language": "python",
   "name": "python3"
  },
  "language_info": {
   "codemirror_mode": {
    "name": "ipython",
    "version": 3
   },
   "file_extension": ".py",
   "mimetype": "text/x-python",
   "name": "python",
   "nbconvert_exporter": "python",
   "pygments_lexer": "ipython3",
   "version": "3.9.12"
  },
  "orig_nbformat": 4,
  "vscode": {
   "interpreter": {
    "hash": "43e34eac3890662f7ed4c344b2cd3566670b78864847db91090bdee248fee56c"
   }
  }
 },
 "nbformat": 4,
 "nbformat_minor": 2
}
