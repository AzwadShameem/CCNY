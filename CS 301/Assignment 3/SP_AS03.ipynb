{
 "cells": [
  {
   "cell_type": "code",
   "execution_count": 77,
   "metadata": {
    "colab": {
     "base_uri": "https://localhost:8080/",
     "height": 357
    },
    "id": "dnx_3JQLka1H",
    "outputId": "634b7c79-d0b9-4760-d300-4477c654ec07",
    "pycharm": {
     "name": "#%%\n"
    }
   },
   "outputs": [],
   "source": [
    "# Import Libraries\n",
    "import numpy as np"
   ]
  },
  {
   "cell_type": "code",
   "execution_count": 78,
   "metadata": {
    "pycharm": {
     "name": "#%%\n"
    }
   },
   "outputs": [],
   "source": [
    "# Constants\n",
    "TOLERANCE = 10**-8\n",
    "A, B = 1, 2.5\n",
    "EXACT = -10 * (np.cos(10) - np.cos(10/2.5))"
   ]
  },
  {
   "cell_type": "code",
   "execution_count": 79,
   "metadata": {
    "pycharm": {
     "name": "#%%\n"
    }
   },
   "outputs": [
    {
     "name": "stdout",
     "output_type": "stream",
     "text": [
      "Composite Simpson's Rule using Error Estimate\n",
      "Iterations 154\n",
      "Definite Integral: 1.8542794496163608\n",
      "Error Estimate: -9.701481396007239e-09\n",
      "Absolute Error: 3.674879558435151e-07 \n",
      "\n",
      "Absolute Error Between Errors 3.7718943723952236e-07 \n",
      "\n",
      "Composite Simpson's Rule using Absolute Error\n",
      "Iterations: 380\n",
      "Definite Integral: 1.8542790920422032\n",
      "Absolute Error: 9.913798226790504e-09 \n",
      "\n"
     ]
    }
   ],
   "source": [
    "# Composite Simpson's Rule\n",
    "def simpsons(f, a, b, n):\n",
    "  h = (b - a) / n\n",
    "  x_0 = f(a) + f(b)\n",
    "  x_1, x_2 = 0, 0\n",
    "  x = 0\n",
    "  for i in range(1, n):\n",
    "    x = a + i * h\n",
    "    if i % 2 == 0:\n",
    "      x_2 = x_2 + f(x)\n",
    "    else:\n",
    "      x_1 = x_1 + f(x)\n",
    "  return h * (x_0 + 2 * x_2 + 4 * x_1) / 3\n",
    "\n",
    "# Function to Integrate\n",
    "def sin_function(x):\n",
    "  return (100/(x**2)) * np.sin(10/x)\n",
    "\n",
    "# Finding the least value of n using the error estimate\n",
    "def simpsons_test(f, a, b):\n",
    "  n = 4\n",
    "  while abs(simpsons(f, a, b, n) - simpsons(f, a, b, n - 2)) > TOLERANCE:\n",
    "    n += 2\n",
    "  return simpsons(f, a, b, n), int(n / 2), simpsons(f, a, b, n) - simpsons(sin_function, a, b, n - 2)\n",
    "\n",
    "# Finding the least value of n using the exact value\n",
    "def simpsons_tolerance(f, a, b, tolerance):\n",
    "  n = 4\n",
    "  while abs(simpsons(f, a, b, n) - EXACT) > tolerance:\n",
    "    n += 2\n",
    "  return simpsons(f, a, b, n), int(n / 2), abs(simpsons(f, a, b, n) - EXACT) # Value, Iterations, Error\n",
    "\n",
    "print(\"Composite Simpson's Rule using Error Estimate\")\n",
    "value, iteration, error = simpsons_test(sin_function, A, B)\n",
    "print(\"Iterations\", iteration)\n",
    "print(\"Definite Integral:\", value)\n",
    "print(\"Error Estimate:\", error)\n",
    "print(\"Absolute Error:\", abs(value - EXACT), \"\\n\")\n",
    "\n",
    "print(\"Absolute Error Between Errors\", abs(error - abs(value - EXACT)), \"\\n\")\n",
    "\n",
    "value, iteration, error = simpsons_tolerance(sin_function, A, B, TOLERANCE)\n",
    "print(\"Composite Simpson's Rule using Absolute Error\")\n",
    "print(\"Iterations:\", iteration)\n",
    "print(\"Definite Integral:\", value)\n",
    "print(\"Absolute Error:\", error, \"\\n\")"
   ]
  },
  {
   "cell_type": "code",
   "execution_count": 80,
   "metadata": {
    "pycharm": {
     "name": "#%%\n"
    }
   },
   "outputs": [
    {
     "name": "stdout",
     "output_type": "stream",
     "text": [
      "Adaptive Quadrature\n",
      "Iterations: 79\n",
      "Definite Integral: 1.8542790819930453\n",
      "Error Estimate: -3.074354200845638e-09\n",
      "Absolute Error: 1.3535972342992864e-10\n"
     ]
    }
   ],
   "source": [
    "# Adaptive Quadrature Method\n",
    "def adaptive_quadrature(f, a, b, tolerance):\n",
    "  global iterations\n",
    "  global difference\n",
    "  h = (b - a) / 2\n",
    "  s1 = simpsons(f, a, b, 2) # ---a---------c---------b--- #\n",
    "  s2 = simpsons(f, a, b, 4) # ---a----x----c----x----b--- #\n",
    "  difference = s2 - s1\n",
    "  if abs(difference) >= 10 * tolerance:\n",
    "    iterations += 1\n",
    "    c = a + h\n",
    "    return adaptive_quadrature(f, a, c, tolerance) + adaptive_quadrature(f, c, b, tolerance)\n",
    "  else:\n",
    "    return s2 + difference/15 # Add the estimated error to make it more accurate\n",
    "\n",
    "iterations = 0\n",
    "difference = 0\n",
    "quad_value = adaptive_quadrature(sin_function, A, B, TOLERANCE)\n",
    "print(\"Adaptive Quadrature\")\n",
    "print(\"Iterations:\", iterations)\n",
    "print(\"Definite Integral:\", quad_value)\n",
    "print(\"Error Estimate:\", difference/15)\n",
    "print(\"Absolute Error:\", abs(quad_value - EXACT))"
   ]
  },
  {
   "cell_type": "markdown",
   "metadata": {
    "pycharm": {
     "name": "#%% md\n"
    }
   },
   "source": [
    "Before we start analyzing the results of Composite Simpson's rule and Adaptive Quadrature,\n",
    "lets discuss the methods used in obtaining the results.\n",
    "\n",
    "In the Simpson Rule we are basically integrating the lagrange polynomial of points a, b, c,\n",
    "where c is the midpoint between a and b. Then we  use the taylor series to estimate the\n",
    "integral since it is a lagrange polynomial. Therefore, we can use the last term, or the fourth\n",
    "derivative to estimate the error of simpson's rule.\n",
    "\n",
    "Composite Simpson's Rule applies Simpson's Rule by utilizing multiple sub intervals.\n",
    "Composite Simpson's Rule makes it so that the error bound will simply be the sum all the errors\n",
    "from each Simpson's Rule for the sub intervals. Furthermore, we compare the Composite\n",
    "Simpson's Rule for the n sub intervals and n + 2 sub intervals.\n",
    "If the difference is within the selected error bound, we deem the estimated integral as accurate.\n",
    "\n",
    "In this assigment we must use an error bound of $10^{-8}$ or in other words, the tolerance\n",
    "of the assignment is any number below $10^{-8}$. We are using this basis to estimate this\n",
    "function from range 1 to 2.5.\n",
    "\n",
    "Composite Simpson's Rule used 154 iterations for the estimate integral to be within the tolerance of\n",
    "$10^{-8}$ The number of iterations seems correct because the error estimate must be within the error\n",
    "bound, basically the only number the tolerance accepts is less than $10^{-8}$.\n",
    "Furthermore, it is to be noted that the actual absolute error is not within the error bound\n",
    "because the absolute error is 3.674879558435151e-07 which is a number clearly above the tolerance\n",
    "of $10^{-8}$. Therefore, since the absolute error is not within the tolerance limits, we can\n",
    "say that the error estimate is around a whole digits place less accurate than we expected\n",
    "because we get an absolute error is $10^{-7}$ compared to the error bound of $10^{-8}$.\n",
    "\n",
    "Composite Simpson's Rule using Error Estimate  \n",
    "Number of Iterations: 154  \n",
    "Definite Integral: 1.8542794496163608  \n",
    "Error Estimate: -9.701481396007239e-09  \n",
    "Absolute Error: 3.674879558435151e-07  \n",
    "\n",
    "Since our absolute error was not within error bounds, this time let us try to\n",
    "iterate until we reach a result where the absolute value also falls within the\n",
    "error bound of $10^{-8}$.\n",
    "\n",
    "Composite Simpson's Rule using Absolute Error  \n",
    "Iterations: 380  \n",
    "Definite Integral: 1.8542790920422032  \n",
    "Absolute Error: 9.913798226790504e-09  \n",
    "\n",
    "It took 380 iterations in order to get a result where the absolute error\n",
    "was below the error bound of $10^{-8}$. Therefore, we must compare the absolute error\n",
    "because otherwise our results will not satisfy the requirement of error bound, $10^{-8}$.\n",
    "Furthermore, it may be of importance to take note that the error estimate of the result\n",
    "with 154 iterations is similar to the absolute error of the trial with 380 iterations.\n",
    "\n",
    "Error Estimate: -9.701481396007239e-09  \n",
    "Absolute Error: 9.913798226790504e-09  \n",
    "\n",
    "We come to the conclusion that the error estimate is similar to the actual absolute error\n",
    "with the caveat being that the methods return a drastically different number of iterations.\n",
    "\n",
    "Adaptive Quadrature and the Composite Simpson's Rule are quite similar, except the fact that\n",
    "the Adaptive Quadrature only subdivides into sub intervals when it deems necessary. Utilizing the\n",
    "same error estimate we subdivide depending on if the result is within error bound.\n",
    "\n",
    "For my implementation of Adaptive Quadrature I utilized a recursive implementation over the one\n",
    "provided in the textbook. Basically in my implementation the idea is to calculate S(a, b)\n",
    "and S(a,c) + S(c, b) and compare the errors and recursively subdivide until the results\n",
    "are within the error bound. As a result of this processess, I believe that this implementation\n",
    "is more intuitive in order to find the result with lower error. In order to accomplish this\n",
    "I utilized the Composite Simpson's Rule from the previous trial and in the Adaptive Quadrature\n",
    "and used the output from that method accordingly.\n",
    "\n",
    "The Results of Adaptive Quadrature:  \n",
    "Iterations: 79  \n",
    "Definite Integral: 1.8542790819930453  \n",
    "Error Estimate: -3.074354200845638e-09  \n",
    "Absolute Error: 1.3535972342992864e-10  \n",
    "\n",
    "Clearly, Adaptive Quadrature is much better than Composite Simpson's Rule and Simpson's rule\n",
    "because there are less iterations than any trial results of Composite Simpson's rule.\n",
    "Furthermore, the iterations of Adaptive Quadrature are in double digits (79) while the results\n",
    "of Composite Simpson's Rule are in triple digits (154 and 380). In fact Quadrature Adaptive\n",
    "has an absolute error of 1.3535972342992864e-10, while Composite Simpson's rule has an absolute\n",
    "error of 9.913798226790504e-09, clearly Quadrature Adaptive has a much lower error.\n",
    "In conclusion, Adaptive Quadrature is much better than Compostive Simpson's rule because\n",
    "there are less iterations and smaller errors."
   ]
  },
  {
   "cell_type": "code",
   "execution_count": null,
   "metadata": {},
   "outputs": [],
   "source": []
  }
 ],
 "metadata": {
  "colab": {
   "collapsed_sections": [],
   "name": "Integration.ipynb",
   "provenance": []
  },
  "kernelspec": {
   "display_name": "PyCharm (CS_301)",
   "language": "python",
   "name": "pycharm-5de1e417"
  },
  "language_info": {
   "codemirror_mode": {
    "name": "ipython",
    "version": 3
   },
   "file_extension": ".py",
   "mimetype": "text/x-python",
   "name": "python",
   "nbconvert_exporter": "python",
   "pygments_lexer": "ipython3",
   "version": "3.8.10"
  }
 },
 "nbformat": 4,
 "nbformat_minor": 1
}
