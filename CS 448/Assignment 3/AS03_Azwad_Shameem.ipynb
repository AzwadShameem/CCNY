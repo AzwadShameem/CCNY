{
 "cells": [
  {
   "cell_type": "markdown",
   "source": [
    "<a href=\"https://colab.research.google.com/github/Azwadd/CS_448-Artificial-Intelligence/blob/main/Assignment%203/AS03_Azwad_Shameem.ipynb\">\n",
    "  <img src=\"https://colab.research.google.com/assets/colab-badge.svg\" alt=\"Open In Colab\"/>\n",
    "</a>"
   ],
   "metadata": {
    "collapsed": false,
    "pycharm": {
     "name": "#%% md\n"
    }
   }
  },
  {
   "cell_type": "code",
   "execution_count": null,
   "outputs": [],
   "source": [
    "import pandas as pd\n",
    "import numpy as np\n",
    "from sklearn import svm\n",
    "import matplotlib.pyplot as plt\n",
    "from sklearn.datasets import load_iris\n",
    "from sklearn.neural_network import MLPClassifier\n",
    "from sklearn.neighbors import KNeighborsClassifier\n",
    "from sklearn.linear_model import LogisticRegression\n",
    "from sklearn.model_selection import train_test_split"
   ],
   "metadata": {
    "collapsed": false,
    "pycharm": {
     "name": "#%%\n"
    }
   }
  },
  {
   "cell_type": "code",
   "execution_count": 271,
   "outputs": [],
   "source": [
    "# Part 1: Load the dataset\n",
    "# Load the dataset (load remotely, not locally)\n",
    "iris = load_iris(as_frame=True) # This one is used only to display summary\n",
    "results = [] # this list will be used to store the results to be shown in a table"
   ],
   "metadata": {
    "collapsed": false,
    "pycharm": {
     "name": "#%%\n"
    }
   }
  },
  {
   "cell_type": "code",
   "execution_count": 272,
   "outputs": [
    {
     "data": {
      "text/plain": "    sepal length (cm)  sepal width (cm)  petal length (cm)  petal width (cm)\n0                 5.1               3.5                1.4               0.2\n1                 4.9               3.0                1.4               0.2\n2                 4.7               3.2                1.3               0.2\n3                 4.6               3.1                1.5               0.2\n4                 5.0               3.6                1.4               0.2\n5                 5.4               3.9                1.7               0.4\n6                 4.6               3.4                1.4               0.3\n7                 5.0               3.4                1.5               0.2\n8                 4.4               2.9                1.4               0.2\n9                 4.9               3.1                1.5               0.1\n10                5.4               3.7                1.5               0.2\n11                4.8               3.4                1.6               0.2\n12                4.8               3.0                1.4               0.1\n13                4.3               3.0                1.1               0.1\n14                5.8               4.0                1.2               0.2",
      "text/html": "<div>\n<style scoped>\n    .dataframe tbody tr th:only-of-type {\n        vertical-align: middle;\n    }\n\n    .dataframe tbody tr th {\n        vertical-align: top;\n    }\n\n    .dataframe thead th {\n        text-align: right;\n    }\n</style>\n<table border=\"1\" class=\"dataframe\">\n  <thead>\n    <tr style=\"text-align: right;\">\n      <th></th>\n      <th>sepal length (cm)</th>\n      <th>sepal width (cm)</th>\n      <th>petal length (cm)</th>\n      <th>petal width (cm)</th>\n    </tr>\n  </thead>\n  <tbody>\n    <tr>\n      <th>0</th>\n      <td>5.1</td>\n      <td>3.5</td>\n      <td>1.4</td>\n      <td>0.2</td>\n    </tr>\n    <tr>\n      <th>1</th>\n      <td>4.9</td>\n      <td>3.0</td>\n      <td>1.4</td>\n      <td>0.2</td>\n    </tr>\n    <tr>\n      <th>2</th>\n      <td>4.7</td>\n      <td>3.2</td>\n      <td>1.3</td>\n      <td>0.2</td>\n    </tr>\n    <tr>\n      <th>3</th>\n      <td>4.6</td>\n      <td>3.1</td>\n      <td>1.5</td>\n      <td>0.2</td>\n    </tr>\n    <tr>\n      <th>4</th>\n      <td>5.0</td>\n      <td>3.6</td>\n      <td>1.4</td>\n      <td>0.2</td>\n    </tr>\n    <tr>\n      <th>5</th>\n      <td>5.4</td>\n      <td>3.9</td>\n      <td>1.7</td>\n      <td>0.4</td>\n    </tr>\n    <tr>\n      <th>6</th>\n      <td>4.6</td>\n      <td>3.4</td>\n      <td>1.4</td>\n      <td>0.3</td>\n    </tr>\n    <tr>\n      <th>7</th>\n      <td>5.0</td>\n      <td>3.4</td>\n      <td>1.5</td>\n      <td>0.2</td>\n    </tr>\n    <tr>\n      <th>8</th>\n      <td>4.4</td>\n      <td>2.9</td>\n      <td>1.4</td>\n      <td>0.2</td>\n    </tr>\n    <tr>\n      <th>9</th>\n      <td>4.9</td>\n      <td>3.1</td>\n      <td>1.5</td>\n      <td>0.1</td>\n    </tr>\n    <tr>\n      <th>10</th>\n      <td>5.4</td>\n      <td>3.7</td>\n      <td>1.5</td>\n      <td>0.2</td>\n    </tr>\n    <tr>\n      <th>11</th>\n      <td>4.8</td>\n      <td>3.4</td>\n      <td>1.6</td>\n      <td>0.2</td>\n    </tr>\n    <tr>\n      <th>12</th>\n      <td>4.8</td>\n      <td>3.0</td>\n      <td>1.4</td>\n      <td>0.1</td>\n    </tr>\n    <tr>\n      <th>13</th>\n      <td>4.3</td>\n      <td>3.0</td>\n      <td>1.1</td>\n      <td>0.1</td>\n    </tr>\n    <tr>\n      <th>14</th>\n      <td>5.8</td>\n      <td>4.0</td>\n      <td>1.2</td>\n      <td>0.2</td>\n    </tr>\n  </tbody>\n</table>\n</div>"
     },
     "execution_count": 272,
     "metadata": {},
     "output_type": "execute_result"
    }
   ],
   "source": [
    "# Output the first 15 rows of the data\n",
    "iris['data'].head(15)"
   ],
   "metadata": {
    "collapsed": false,
    "pycharm": {
     "name": "#%%\n"
    }
   }
  },
  {
   "cell_type": "code",
   "execution_count": 273,
   "outputs": [
    {
     "data": {
      "text/plain": "    target\n0        0\n1        0\n2        0\n3        0\n4        0\n5        0\n6        0\n7        0\n8        0\n9        0\n10       0\n11       0\n12       0\n13       0\n14       0",
      "text/html": "<div>\n<style scoped>\n    .dataframe tbody tr th:only-of-type {\n        vertical-align: middle;\n    }\n\n    .dataframe tbody tr th {\n        vertical-align: top;\n    }\n\n    .dataframe thead th {\n        text-align: right;\n    }\n</style>\n<table border=\"1\" class=\"dataframe\">\n  <thead>\n    <tr style=\"text-align: right;\">\n      <th></th>\n      <th>target</th>\n    </tr>\n  </thead>\n  <tbody>\n    <tr>\n      <th>0</th>\n      <td>0</td>\n    </tr>\n    <tr>\n      <th>1</th>\n      <td>0</td>\n    </tr>\n    <tr>\n      <th>2</th>\n      <td>0</td>\n    </tr>\n    <tr>\n      <th>3</th>\n      <td>0</td>\n    </tr>\n    <tr>\n      <th>4</th>\n      <td>0</td>\n    </tr>\n    <tr>\n      <th>5</th>\n      <td>0</td>\n    </tr>\n    <tr>\n      <th>6</th>\n      <td>0</td>\n    </tr>\n    <tr>\n      <th>7</th>\n      <td>0</td>\n    </tr>\n    <tr>\n      <th>8</th>\n      <td>0</td>\n    </tr>\n    <tr>\n      <th>9</th>\n      <td>0</td>\n    </tr>\n    <tr>\n      <th>10</th>\n      <td>0</td>\n    </tr>\n    <tr>\n      <th>11</th>\n      <td>0</td>\n    </tr>\n    <tr>\n      <th>12</th>\n      <td>0</td>\n    </tr>\n    <tr>\n      <th>13</th>\n      <td>0</td>\n    </tr>\n    <tr>\n      <th>14</th>\n      <td>0</td>\n    </tr>\n  </tbody>\n</table>\n</div>"
     },
     "execution_count": 273,
     "metadata": {},
     "output_type": "execute_result"
    }
   ],
   "source": [
    "# Output the first 15 rows of the data\n",
    "pd.DataFrame(iris['target']).head(15)"
   ],
   "metadata": {
    "collapsed": false,
    "pycharm": {
     "name": "#%%\n"
    }
   }
  },
  {
   "cell_type": "code",
   "execution_count": 274,
   "outputs": [
    {
     "name": "stdout",
     "output_type": "stream",
     "text": [
      "Feature names ['sepal length (cm)', 'sepal width (cm)', 'petal length (cm)', 'petal width (cm)']\n",
      "Shape of Feature names (4, 1)\n",
      "Shape of Features (150, 4)\n",
      "Label names ['setosa' 'versicolor' 'virginica']\n",
      "Shape of Label names (3, 1)\n",
      "Shape of Labels (150,)\n"
     ]
    }
   ],
   "source": [
    "# Display a summary of the table information (number of datapoints, etc.)\n",
    "print(\"Feature names\", iris['feature_names'])\n",
    "print(\"Shape of Feature names\", pd.DataFrame(iris['feature_names']).shape)\n",
    "print(\"Shape of Features\", iris['data'].shape)\n",
    "print(\"Label names\", iris['target_names'])\n",
    "print(\"Shape of Label names\", pd.DataFrame(iris['target_names']).shape)\n",
    "print(\"Shape of Labels\", iris['target'].shape)"
   ],
   "metadata": {
    "collapsed": false,
    "pycharm": {
     "name": "#%%\n"
    }
   }
  },
  {
   "cell_type": "markdown",
   "source": [
    "Explain what the data is in your own words. What are your features and labels?\n",
    "What is the mapping of your labels to the actual classes?"
   ],
   "metadata": {
    "collapsed": false,
    "pycharm": {
     "name": "#%% md\n"
    }
   }
  },
  {
   "cell_type": "code",
   "execution_count": 275,
   "outputs": [],
   "source": [
    "# Part 2: Split the dataset into train and test\n",
    "# Take the dataset and split it into our features (X) and label (y)\n",
    "features, labels = load_iris(return_X_y=True) # this loads as features and labels for us\n",
    "# Use sklearn to split the features and labels into a training/test set. (90% train, 10% test)\n",
    "x_train, x_test, y_train, y_test = train_test_split(features, labels, train_size=.9, test_size=.1)"
   ],
   "metadata": {
    "collapsed": false,
    "pycharm": {
     "name": "#%%\n"
    }
   }
  },
  {
   "cell_type": "code",
   "execution_count": 276,
   "outputs": [
    {
     "name": "stdout",
     "output_type": "stream",
     "text": [
      "Prediction for class 0: [[9.79527812e-01 2.04721654e-02 2.29567722e-08]] --> Highest probability should be the first one\n",
      "Prediction for class 1: [[0.00278053 0.86466762 0.13255186]] --> Highest probability should be the second one\n",
      "Prediction for class 2: [[1.58185286e-06 5.12841903e-03 9.94869999e-01]] --> Highest probability should be the third one\n",
      "Train Accuracy: 0.9703703703703703\n",
      "Test Accuracy: 1.0\n"
     ]
    }
   ],
   "source": [
    "# Part 3: Logistic Regression\n",
    "# i. Use sklearn to train a LogisticRegression model on the training set\n",
    "lr = LogisticRegression().fit(x_train, y_train)\n",
    "# ii. For a sample datapoint, predict the probabilities for each possible class\n",
    "print(\"Prediction for class 0:\", lr.predict_proba([[5.1, 3.5, 1.4, 0.2]]), \"--> Highest probability should be the first one\")\n",
    "print(\"Prediction for class 1:\", lr.predict_proba([[7.0, 3.2, 4.7, 1.4]]), \"--> Highest probability should be the second one\")\n",
    "print(\"Prediction for class 2:\", lr.predict_proba([[6.3, 3.3, 6.0, 2.5]]), \"--> Highest probability should be the third one\")\n",
    "# iii. Report on the score for Logistic regression model, what does the score measure?\n",
    "results.append(lr.score(x_train, y_train))\n",
    "print(\"Train Accuracy:\", results[len(results)-1])\n",
    "results.append(lr.score(x_test, y_test))\n",
    "print(\"Test Accuracy:\", results[len(results)-1])"
   ],
   "metadata": {
    "collapsed": false,
    "pycharm": {
     "name": "#%%\n"
    }
   }
  },
  {
   "cell_type": "markdown",
   "source": [
    "The train accuracy is about 97% and the test accuracy is 100%, this seems like the model has underfit in this simulation."
   ],
   "metadata": {
    "collapsed": false,
    "pycharm": {
     "name": "#%% md\n"
    }
   }
  },
  {
   "cell_type": "code",
   "execution_count": 277,
   "outputs": [
    {
     "name": "stdout",
     "output_type": "stream",
     "text": [
      "Intercept: [  9.54117522   2.49328079 -12.03445601]\n",
      "Coefficients: [[-0.39999741  0.93481451 -2.44269122 -1.03806968]\n",
      " [ 0.46124372 -0.32078229 -0.18813799 -0.9091972 ]\n",
      " [-0.06124631 -0.61403221  2.63082921  1.94726688]]\n"
     ]
    }
   ],
   "source": [
    "# iv. Extract the coefficents and intercepts for the boundary line(s)\n",
    "print(\"Intercept:\", lr.intercept_)\n",
    "print(\"Coefficients:\", lr.coef_)"
   ],
   "metadata": {
    "collapsed": false,
    "pycharm": {
     "name": "#%%\n"
    }
   }
  },
  {
   "cell_type": "code",
   "execution_count": 278,
   "outputs": [
    {
     "name": "stdout",
     "output_type": "stream",
     "text": [
      "Prediction for class 0: [[0.9747327  0.01579445 0.00947285]] --> Highest probability should be the first one\n",
      "Prediction for class 1: [[0.01233575 0.86211959 0.12554466]] --> Highest probability should be the second one\n",
      "Prediction for class 2: [[0.00708249 0.00105843 0.99185908]] --> Highest probability should be the third one\n",
      "Train Accuracy: 0.9481481481481482\n",
      "Test Accuracy: 1.0\n"
     ]
    }
   ],
   "source": [
    "# Part 4: Support Vector Machine\n",
    "# i. Use sklearn to train a Support Vector Classifier on the training set\n",
    "svm1 = svm.SVC(probability=True).fit(x_train, y_train)\n",
    "# ii. For a sample datapoint, predict the probabilities for each possible class\n",
    "print(\"Prediction for class 0:\", svm1.predict_proba([[5.1, 3.5, 1.4, 0.2]]), \"--> Highest probability should be the first one\")\n",
    "print(\"Prediction for class 1:\", svm1.predict_proba([[7.0, 3.2, 4.7, 1.4]]), \"--> Highest probability should be the second one\")\n",
    "print(\"Prediction for class 2:\", svm1.predict_proba([[6.3, 3.3, 6.0, 2.5]]), \"--> Highest probability should be the third one\")\n",
    "# iii. Report on the score for the SVM, what does the score measure?\n",
    "results.append(svm1.score(x_train, y_train))\n",
    "print(\"Train Accuracy:\", results[len(results)-1])\n",
    "results.append(svm1.score(x_test, y_test))\n",
    "print(\"Test Accuracy:\", results[len(results)-1])"
   ],
   "metadata": {
    "collapsed": false,
    "pycharm": {
     "name": "#%%\n"
    }
   }
  },
  {
   "cell_type": "markdown",
   "source": [
    "The particular scores of the predict_proba mean how accurately can the model\n",
    "predict if a datapoint for class 0, 1, 2 is given. Take for example\n",
    "the prediction for class 0, the first one is 97.47% while the rest 1.15% and 0.94%.\n",
    "Clearly, the model is able to predict that the particular datapoint is\n",
    "class 0 with a 97.47% probaility of it being correct.\n",
    "\n",
    "Also the scores of the svm is 94.81% for train accuracy and 100% for test\n",
    "accuarcy. This shows sign of underfitting because there is a sizeable difference\n",
    "between how high the test accuracy is compared to the train accuracy."
   ],
   "metadata": {
    "collapsed": false,
    "pycharm": {
     "name": "#%% md\n"
    }
   }
  },
  {
   "cell_type": "code",
   "execution_count": 279,
   "outputs": [
    {
     "name": "stdout",
     "output_type": "stream",
     "text": [
      "Prediction for class 0: [[9.99714400e-01 2.85599795e-04 2.34326735e-10]] --> Highest probability should be the first one\n",
      "Prediction for class 1: [[2.85822396e-04 9.97143432e-01 2.57074518e-03]] --> Highest probability should be the second one\n",
      "Prediction for class 2: [[5.15193213e-08 1.63191435e-04 9.99836757e-01]] --> Highest probability should be the third one\n",
      "\n",
      "default:\n",
      "Train Accuracy: 0.9703703703703703\n",
      "Test Accuracy: 1.0 \n",
      "\n",
      "identity:\n",
      "Train Accuracy: 0.9777777777777777\n",
      "Test Accuracy: 1.0 \n",
      "\n",
      "tanh:\n",
      "Train Accuracy: 0.9777777777777777\n",
      "Test Accuracy: 1.0 \n",
      "\n",
      "logistic:\n",
      "Train Accuracy: 0.9851851851851852\n",
      "Test Accuracy: 1.0 \n",
      "\n"
     ]
    }
   ],
   "source": [
    "# Part 5: Neural Network\n",
    "# i. Use sklearn to train a Neural Network (MLP Classifier) on the training set\n",
    "mpc = MLPClassifier(max_iter=600).fit(x_train, y_train) # used max-iter to remove non convergence warning\n",
    "# ii. For a sample datapoint, predict the probabilities for each possible class\n",
    "print(\"Prediction for class 0:\", mpc.predict_proba([[5.1, 3.5, 1.4, 0.2]]), \"--> Highest probability should be the first one\")\n",
    "print(\"Prediction for class 1:\", mpc.predict_proba([[7.0, 3.2, 4.7, 1.4]]), \"--> Highest probability should be the second one\")\n",
    "print(\"Prediction for class 2:\", mpc.predict_proba([[6.3, 3.3, 6.0, 2.5]]), \"--> Highest probability should be the third one\\n\")\n",
    "# iii. Report on the score for the Neural Network, what does the score measure?\n",
    "print(\"default:\") # note the default is actually 'relu'\n",
    "results.append(mpc.score(x_train, y_train))\n",
    "print(\"Train Accuracy:\", results[len(results)-1])\n",
    "results.append(mpc.score(x_test, y_test))\n",
    "print(\"Test Accuracy:\", results[len(results)-1], \"\\n\")\n",
    "\n",
    "# iv: Experiment with different options for the neural network, report on your best configuration (the highest score I was able to achieve was 0.8666)\n",
    "for i in [\"identity\", \"tanh\", \"logistic\"]:\n",
    "    print(i + \":\")\n",
    "    mpc = MLPClassifier(activation=i, max_iter=900).fit(x_train, y_train) # used max-iter to remove non convergence warning\n",
    "    results.append(mpc.score(x_train, y_train))\n",
    "    print(\"Train Accuracy:\", results[len(results)-1])\n",
    "    results.append(mpc.score(x_test, y_test))\n",
    "    print(\"Test Accuracy:\", results[len(results)-1], \"\\n\")"
   ],
   "metadata": {
    "collapsed": false,
    "pycharm": {
     "name": "#%%\n"
    }
   }
  },
  {
   "cell_type": "markdown",
   "source": [
    "The best score was with the logistic activation function with the max_iter=900.\n",
    "Utilizing the configuration of different max_iters, we realized that depending\n",
    "on the iteration the accuracy may increase or even decreaase. The highest\n",
    "accuracy I achieved was when I used max_iter=900 and I believe this is\n",
    "cloest iteration to convergence that I was able to test and as a result\n",
    "gave a higher score. Furthermore not utilizing max_iter gave an warning\n",
    "statement that the Neural Network did not converge which is why\n",
    "there is a max_iter listed for every activation function of MLPClassifier."
   ],
   "metadata": {
    "collapsed": false,
    "pycharm": {
     "name": "#%% md\n"
    }
   }
  },
  {
   "cell_type": "code",
   "execution_count": 280,
   "outputs": [
    {
     "name": "stdout",
     "output_type": "stream",
     "text": [
      "Prediction for class 0: [[1. 0. 0.]] --> Highest probability should be the first one\n",
      "Prediction for class 1: [[0. 1. 0.]] --> Highest probability should be the second one\n",
      "Prediction for class 2: [[0. 0. 1.]] --> Highest probability should be the third one\n",
      "\n",
      "Train Accuracy: 0.9703703703703703\n",
      "Test Accuracy: 1.0\n"
     ]
    }
   ],
   "source": [
    "# Part 6 : K-Nearest Neighbors\n",
    "# i. Use sklearn to 'train' a k-Neighbors Classifier\n",
    "neighbors = KNeighborsClassifier().fit(x_train, y_train)\n",
    "# ii. For a sample datapoint, predict the probabilities for each possible class\n",
    "print(\"Prediction for class 0:\", neighbors.predict_proba([[5.1, 3.5, 1.4, 0.2]]), \"--> Highest probability should be the first one\")\n",
    "print(\"Prediction for class 1:\", neighbors.predict_proba([[7.0, 3.2, 4.7, 1.4]]), \"--> Highest probability should be the second one\")\n",
    "print(\"Prediction for class 2:\", neighbors.predict_proba([[6.3, 3.3, 6.0, 2.5]]), \"--> Highest probability should be the third one\\n\")\n",
    "# iii. Report on the score for kNN, what does the score measure?\n",
    "results.append(neighbors.score(x_train, y_train))\n",
    "print(\"Train Accuracy:\", results[len(results)-1])\n",
    "results.append(neighbors.score(x_test, y_test))\n",
    "print(\"Test Accuracy:\", results[len(results)-1])"
   ],
   "metadata": {
    "collapsed": false,
    "pycharm": {
     "name": "#%%\n"
    }
   }
  },
  {
   "cell_type": "markdown",
   "source": [
    "The K-Nearest Neighbors algorithm was suprisingly able to give us a prediction\n",
    "of a datapoint with 100% accuracy with datapoints for every class. This shows\n",
    "that the K-Nearest Neighbors is very accurate at predicting datapoints correlating\n",
    "to specific classes. \n",
    "\n",
    "The scores fo K-Nearest Neighbors are 97.03% train accuracy and 100% test accuracy. \n",
    "There is slight underfitting because the train accuracy is less than the test accuracy\n",
    "but not too much since 3% difference is minimal. "
   ],
   "metadata": {
    "collapsed": false,
    "pycharm": {
     "name": "#%% md\n"
    }
   }
  },
  {
   "cell_type": "code",
   "execution_count": 290,
   "outputs": [
    {
     "data": {
      "text/plain": "<Figure size 1400x300 with 1 Axes>",
      "image/png": "[encoded data removed]"
     },
     "metadata": {
      "needs_background": "light"
     },
     "output_type": "display_data"
    }
   ],
   "source": [
    "# Putting The Data Into A Table\n",
    "fig, ax = plt.subplots(dpi=200, figsize = (7,1.5))\n",
    "fig.patch.set_visible(False)\n",
    "ax.axis('off')\n",
    "ax.axis('tight')\n",
    "cases=np.array([\"Train Accuracy\", \"Test Accuracy\"])\n",
    "df = pd.DataFrame({\"Logistic Regression\" : results[0:2:],\n",
    "                   \"SVM\" : results[2:4:],\n",
    "                   \"Neural Network (default)\" : results[4:6:],\n",
    "                   \"Neural Network (identity)\" : results[6:8:],\n",
    "                   \"Neural Network (tanh)\" : results[8:10:],\n",
    "                   \"Neural Network (logistic)\" : results[10:12:],\n",
    "                   \"KNeighbors Classifier\" : results[12:14:],\n",
    "                   })\n",
    "ax.table(cellText=df.values, rowLabels=cases, colLabels=df.columns, cellLoc='center', loc='center')\n",
    "fig.tight_layout()\n",
    "plt.show()"
   ],
   "metadata": {
    "collapsed": false,
    "pycharm": {
     "name": "#%%\n"
    }
   }
  },
  {
   "cell_type": "markdown",
   "source": [
    "Note: The table above shows the data for each model for your convenience\n",
    "\n",
    "Part 7: Conclusions and takeaways.\n",
    "Considering test and train accuracies the model with the highest accuracy is the Neural Network using the\n",
    "logistic activation function with a train accuracy of 98.5% and a 100% test accuracy. For the runnersup there is a two way tie\n",
    "with the identity and 'tanh' neural networks coming in with a train accuracy of 97.77% and a 100% test accuracy.\n",
    "For 3rd place we have a 3 way tie betweeen Logistic Regression, Neural Network(default) and\n",
    "the KNeighbors Classifier coming in a train accuracy of 97.03% and a test accuracy of 100%.\n",
    "In last place we have the Support Vector Machine with a train accuracy of 94.81% and\n",
    "a test accuracy of 100%.\n",
    "\n",
    "I believe the Neural Network using activation='logistic' performed the best because\n",
    "this particular dataset slightly is more aligned to this specific model. The difference\n",
    "between the accuracies of each model is very close so it is difficult to say exactly why\n",
    "one model will always perform better than the other for a particular split of the dataset.\n",
    "If this same simulation were to be ran again with the same dataset and procedure,\n",
    "any model has a chance of performing the best because the way the dataset is randomly split\n",
    "can inadvertedly benefit one model over the other. If the accuracies were more drastically\n",
    "different than we can come with conclusions saying one model is better than the other\n",
    "but since the accuracies are so close we are unable to. As a result, the only thing we can\n",
    "say for certainty is that in this particular simulation the algorithm from the Neural Network\n",
    "using logistic activation benefited the most.\n",
    "\n",
    "Suprisingly all the models had a 100% test accuracy, interestingly the data was split in a away that all the models\n",
    "had full test accuracy. However, no model recieved 100% test accuracy. This leads us to believe there was some\n",
    "underfitting. Clearly, the Support Vector Machine had the highest underfitting occuring\n",
    "because there is a 6% gap between train and test accuracies. The other models\n",
    "have a range of 2-3% differences in accuracies which shows there is some slight\n",
    "underfitting in this particular simulation."
   ],
   "metadata": {
    "collapsed": false,
    "pycharm": {
     "name": "#%% md\n"
    }
   }
  }
 ],
 "metadata": {
  "kernelspec": {
   "display_name": "Python 3",
   "language": "python",
   "name": "python3"
  },
  "language_info": {
   "codemirror_mode": {
    "name": "ipython",
    "version": 2
   },
   "file_extension": ".py",
   "mimetype": "text/x-python",
   "name": "python",
   "nbconvert_exporter": "python",
   "pygments_lexer": "ipython2",
   "version": "2.7.6"
  }
 },
 "nbformat": 4,
 "nbformat_minor": 0
}
